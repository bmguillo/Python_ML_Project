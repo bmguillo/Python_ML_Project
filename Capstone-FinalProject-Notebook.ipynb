{
    "cells": [
        {
            "metadata": {
                "collapsed": true
            },
            "cell_type": "markdown",
            "source": "# Final Capstone Project - Week 5 - The Battle of the Neighborhoods - Applied Data Science Capstone - IBM/Coursera\n\n> ## Targeted Marketing Campaign Prediction & User Behavior Analysis using K-Means Clustering\n\n> ## Brandy Guillory\n\n> ## December 26, 2019"
        },
        {
            "metadata": {},
            "cell_type": "markdown",
            "source": "## Table of contents\n1. [Introduction \u2013 Business Understanding](#0)<br>\n2. [Data Science Methodology](#datasciencemethodology)\n3. [Results](#results)\n4. [Discussion](#discussion)\n5. [Conclusion](#conclusion)"
        },
        {
            "metadata": {},
            "cell_type": "markdown",
            "source": "## Introduction \u2013 Business Understanding<a id=\"0\"></a>"
        },
        {
            "metadata": {},
            "cell_type": "markdown",
            "source": "### 1.1 Background"
        },
        {
            "metadata": {},
            "cell_type": "markdown",
            "source": "There has been an evolution of marketing. Since the 1900s starting on both radio and television, the marketing focus was on \"selling\" starting. The Golden age of Advertising introduced such ads as \"Uncle Sam Wants You for the Army\" and \"Eat Your Wheaties\". Marketing became more personalized with a focus on brand awareness and problem solving. Then there was the digital ad revolution  that began with online advertising in the 1990s and mobile ads in 2000. There is a plethora of data collected daily about users and the ability to harness this data to produce more targeted and personalized ad campaigns to create better customer experience and revenue generation."
        },
        {
            "metadata": {},
            "cell_type": "markdown",
            "source": "### 1.2 Problem"
        },
        {
            "metadata": {},
            "cell_type": "markdown",
            "source": "An employee at a fictitious big data marketing company, Insights LLC has been tasked with helping its customer determine an ideal marketing campaign in San Francisco.  "
        },
        {
            "metadata": {},
            "cell_type": "markdown",
            "source": "### 1.3 Interest"
        },
        {
            "metadata": {},
            "cell_type": "markdown",
            "source": "Insights, LLC has a customer who would like to create more personalized ad campaigns for its target customer segments to increase revenue and customer satisfaction. With the plethora of data collected & speed in which it is collected on its customers, the ability to harness it for either a) an increase of revenue via new products/services b) identification of user behavior for both positive & negative trends in customer satisfaction. I am using data science methodology to solve this business problem."
        },
        {
            "metadata": {},
            "cell_type": "markdown",
            "source": "## 2. Data Science Methodology<a name=\"datasciencemethodology\"></a>"
        },
        {
            "metadata": {},
            "cell_type": "markdown",
            "source": "### 2.1\tData Requirements \u2013 Data Tooling,  Sources & Collection"
        },
        {
            "metadata": {},
            "cell_type": "markdown",
            "source": "The data tooling I will be using will be Python language for (data cleansing, data manipulation, data modeling, data analytics & visualization), Jupyter notebook for sharing code & data analysis pushed to GitHub for source control.\n\n\nThe customer has asked me to gather insights for the city of San Francisco\n\n \n\nI am using the following data: \n\u2022\tWikipedia web scrape: Neighborhood data for the various cities & population\n\u2022\tGeocoder nominatim: Retrieval of latitude and longitude of the neighborhoods \n\u2022\tFoursquare Places API: venue, rating likes data for these neighborhoods \n\u2022   Foursquare Trending: to show restaurants trending within a specific radius\n\u2022\tKaggle datasets: SF crime data\n\nThe data that I will be using will be both structured & unstructured.\n\nFactors that will influence the marketing campaign: user behavior, neighborhood segmentation via clustering. Other factors such as trending venues, crime, venues most frequented per neighborhood, population\n "
        },
        {
            "metadata": {},
            "cell_type": "code",
            "source": "#### Import statements",
            "execution_count": 1,
            "outputs": []
        },
        {
            "metadata": {},
            "cell_type": "code",
            "source": "%%capture\n!pip install geocoder\n!pip install folium\n\n%autosave 3\n\n#import statements, installation of libraries for data visualization/analysis & geographical data retrieval\nimport pandas as pd\nimport geocoder\nfrom geopy.geocoders import Nominatim\nimport requests\nfrom bs4 import BeautifulSoup\nfrom tabulate import tabulate\nimport folium \nimport urllib.request\nfrom urllib.request import urlopen\nfrom pandas.io.json import json_normalize\nfrom folium.plugins import MarkerCluster\nfrom sklearn.cluster import KMeans",
            "execution_count": 2,
            "outputs": []
        },
        {
            "metadata": {},
            "cell_type": "markdown",
            "source": "#### Kaggle Data Collection - San Francisco Crime by Neighborhood "
        },
        {
            "metadata": {},
            "cell_type": "code",
            "source": "import types\nimport pandas as pd\nfrom botocore.client import Config\nimport ibm_boto3\n\ndef __iter__(self): return 0\n\n# @hidden_cell\n# The following code accesses a file in your IBM Cloud Object Storage. It includes your credentials.\n# You might want to remove those credentials before you share the notebook.\nclient_8c374c33edfe4768aefdf80edd7dcdf1 = ibm_boto3.client(service_name='s3',\n    ibm_api_key_id='0UC_-4gkD7ErBMrWYUaX2ekuOqlEFdPzsgEAS8Z-5sMQ',\n    ibm_auth_endpoint=\"https://iam.ng.bluemix.net/oidc/token\",\n    config=Config(signature_version='oauth'),\n    endpoint_url='https://s3-api.us-geo.objectstorage.service.networklayer.com')\n\nbody = client_8c374c33edfe4768aefdf80edd7dcdf1.get_object(Bucket='datascienceprofessionalcertificat-donotdelete-pr-6tfwiuoky1hud9',Key='sfcrimes.csv')['Body']\n# add missing __iter__ method, so pandas accepts body as file-like object\nif not hasattr(body, \"__iter__\"): body.__iter__ = types.MethodType( __iter__, body )\n# loads the csv into a dataframe and displays first 3 rows\nsfcrimebyneighborhood_df = pd.read_csv(body)\nsfcrimebyneighborhood_df.head(3)",
            "execution_count": 3,
            "outputs": [
                {
                    "output_type": "execute_result",
                    "execution_count": 3,
                    "data": {
                        "text/plain": "           Dates        Category                  Descript  DayOfWeek  \\\n0  5/13/15 23:53        WARRANTS            WARRANT ARREST  Wednesday   \n1  5/13/15 23:53  OTHER OFFENSES  TRAFFIC VIOLATION ARREST  Wednesday   \n2  5/13/15 23:33  OTHER OFFENSES  TRAFFIC VIOLATION ARREST  Wednesday   \n\n  PdDistrict      Resolution                    Address           X          Y  \n0   NORTHERN  ARREST, BOOKED         OAK ST / LAGUNA ST -122.425892  37.774599  \n1   NORTHERN  ARREST, BOOKED         OAK ST / LAGUNA ST -122.425892  37.774599  \n2   NORTHERN  ARREST, BOOKED  VANNESS AV / GREENWICH ST -122.424363  37.800414  ",
                        "text/html": "<div>\n<style scoped>\n    .dataframe tbody tr th:only-of-type {\n        vertical-align: middle;\n    }\n\n    .dataframe tbody tr th {\n        vertical-align: top;\n    }\n\n    .dataframe thead th {\n        text-align: right;\n    }\n</style>\n<table border=\"1\" class=\"dataframe\">\n  <thead>\n    <tr style=\"text-align: right;\">\n      <th></th>\n      <th>Dates</th>\n      <th>Category</th>\n      <th>Descript</th>\n      <th>DayOfWeek</th>\n      <th>PdDistrict</th>\n      <th>Resolution</th>\n      <th>Address</th>\n      <th>X</th>\n      <th>Y</th>\n    </tr>\n  </thead>\n  <tbody>\n    <tr>\n      <th>0</th>\n      <td>5/13/15 23:53</td>\n      <td>WARRANTS</td>\n      <td>WARRANT ARREST</td>\n      <td>Wednesday</td>\n      <td>NORTHERN</td>\n      <td>ARREST, BOOKED</td>\n      <td>OAK ST / LAGUNA ST</td>\n      <td>-122.425892</td>\n      <td>37.774599</td>\n    </tr>\n    <tr>\n      <th>1</th>\n      <td>5/13/15 23:53</td>\n      <td>OTHER OFFENSES</td>\n      <td>TRAFFIC VIOLATION ARREST</td>\n      <td>Wednesday</td>\n      <td>NORTHERN</td>\n      <td>ARREST, BOOKED</td>\n      <td>OAK ST / LAGUNA ST</td>\n      <td>-122.425892</td>\n      <td>37.774599</td>\n    </tr>\n    <tr>\n      <th>2</th>\n      <td>5/13/15 23:33</td>\n      <td>OTHER OFFENSES</td>\n      <td>TRAFFIC VIOLATION ARREST</td>\n      <td>Wednesday</td>\n      <td>NORTHERN</td>\n      <td>ARREST, BOOKED</td>\n      <td>VANNESS AV / GREENWICH ST</td>\n      <td>-122.424363</td>\n      <td>37.800414</td>\n    </tr>\n  </tbody>\n</table>\n</div>"
                    },
                    "metadata": {}
                }
            ]
        },
        {
            "metadata": {},
            "cell_type": "markdown",
            "source": "#### San Francisco neighborhood data web scrape"
        },
        {
            "metadata": {},
            "cell_type": "code",
            "source": "# webscrap of a webpage, store the table data into a dataframe and display first 3 rows\nres = requests.get(\"http://www.healthysf.org/bdi/outcomes/zipmap.htm\")\nsoup = BeautifulSoup(res.content,'lxml')\ntable = soup.find_all('table') \nsanfrancisconeighborhood_df = pd.read_html(str(table))\nsanfrancisconeighborhood_df = pd.concat(sanfrancisconeighborhood_df)\nsanfrancisconeighborhood_df.head(3)",
            "execution_count": 4,
            "outputs": [
                {
                    "output_type": "execute_result",
                    "execution_count": 4,
                    "data": {
                        "text/plain": "            0                                                  1  \\\n0         NaN  San Francisco Burden of Disease & Injury Study...   \n1         NaN  About Site Determinants Health Outcomes Web Li...   \n0  About Site                                       Determinants   \n\n                 2          3         4  \n0              NaN        NaN       NaN  \n1              NaN        NaN       NaN  \n0  Health Outcomes  Web Links  Site Map  ",
                        "text/html": "<div>\n<style scoped>\n    .dataframe tbody tr th:only-of-type {\n        vertical-align: middle;\n    }\n\n    .dataframe tbody tr th {\n        vertical-align: top;\n    }\n\n    .dataframe thead th {\n        text-align: right;\n    }\n</style>\n<table border=\"1\" class=\"dataframe\">\n  <thead>\n    <tr style=\"text-align: right;\">\n      <th></th>\n      <th>0</th>\n      <th>1</th>\n      <th>2</th>\n      <th>3</th>\n      <th>4</th>\n    </tr>\n  </thead>\n  <tbody>\n    <tr>\n      <th>0</th>\n      <td>NaN</td>\n      <td>San Francisco Burden of Disease &amp; Injury Study...</td>\n      <td>NaN</td>\n      <td>NaN</td>\n      <td>NaN</td>\n    </tr>\n    <tr>\n      <th>1</th>\n      <td>NaN</td>\n      <td>About Site Determinants Health Outcomes Web Li...</td>\n      <td>NaN</td>\n      <td>NaN</td>\n      <td>NaN</td>\n    </tr>\n    <tr>\n      <th>0</th>\n      <td>About Site</td>\n      <td>Determinants</td>\n      <td>Health Outcomes</td>\n      <td>Web Links</td>\n      <td>Site Map</td>\n    </tr>\n  </tbody>\n</table>\n</div>"
                    },
                    "metadata": {}
                }
            ]
        },
        {
            "metadata": {},
            "cell_type": "markdown",
            "source": "### Foursquare Data Collection to retrieve lat and long of SF neighborhoods, venue data of venues within a proximity of the neighborhoods & like/check-in data on the venues"
        },
        {
            "metadata": {},
            "cell_type": "markdown",
            "source": "#### Hide code below for API creds"
        },
        {
            "metadata": {},
            "cell_type": "code",
            "source": "# @hidden_cell D25W0VRV4RNHII3UBCJ0UM2NNC2SVM1F0HSDXERJ22IX53O0\n#CLIENT_ID = 'SCTT2VODVEZKPLXHIWXIOBTGYP0DOLG4FUI3NKNA325L0H4F' # your Foursquare ID, first dev acct\nCLIENT_ID = 'D25W0VRV4RNHII3UBCJ0UM2NNC2SVM1F0HSDXERJ22IX53O0' # your Foursquare ID, second dev acct, bmguillo\n#CLIENT_SECRET = 'OMDS5ZU4LM3XAD055FLQM2GEM3F5E44LFVSQLSH4FKHJ1GVX' # your Foursquare Secret\nCLIENT_SECRET = 'WL3DTSLLCXM2LZGBUCFKFKBPY1LR02UFT2V03NBIIGODUKFE' # your Foursquare Secret\nVERSION = '20180604'\nLIMIT = 30",
            "execution_count": 5,
            "outputs": []
        },
        {
            "metadata": {},
            "cell_type": "markdown",
            "source": "#### In order to define an instance of the geocoder, we need to define a user_agent. We will name our agent <em>foursquare_agent</em>, as shown below and get coordinates for 3 SF Neighborhoods via function\n#### In addition I pull all nearby venues within a 500 mile radius using location coordinates of a specific neighborhood in San Francisco \"The Castro\" "
        },
        {
            "metadata": {},
            "cell_type": "code",
            "source": "#function to call geocoder to populate lat, long of the castro neighborhood in san francisco\ndef getcoords(clientid,secret,vrsn,lmt,address):\n    geolocator = Nominatim(user_agent=\"foursquare_agent\")\n    location = geolocator.geocode(address,timeout=10)\n    latitude = location.latitude\n    longitude = location.longitude\n    return latitude,longitude\n\naddress = 'the castro san francisco'\n#address = 'Potrero Hill san francisco'\n#address = 'Chinatown san francisco'\ncoords = getcoords(CLIENT_ID,CLIENT_SECRET,VERSION,LIMIT,address)\nprint('Coordinates of {}: {}'.format(address, coords))",
            "execution_count": 6,
            "outputs": [
                {
                    "output_type": "stream",
                    "text": "Coordinates of the castro san francisco: (37.7608561, -122.434957)\n",
                    "name": "stdout"
                }
            ]
        },
        {
            "metadata": {},
            "cell_type": "markdown",
            "source": "#### Obtain nearby venues set of coordinates store in dataframe from JSON for mapping later"
        },
        {
            "metadata": {},
            "cell_type": "code",
            "source": "## Retrieving category type from rows and returning the names\ndef get_category_type(row):\n    try:\n        categories_list = row['categories']\n    except:\n        categories_list = row['venue.categories']\n        \n    if len(categories_list) == 0:\n        return None\n    else:\n        return categories_list[0]['name']\n    \n## using Foursquare API to explore venues then convert result into a pandas dataframe from JSON\nradius=1000\nlimit=100\ngeolocator = Nominatim(user_agent=\"foursquare_agent\",timeout=10)\nlocation = geolocator.geocode(address)\nlatitude = location.latitude\nlongitude = location.longitude\nurl = 'https://api.foursquare.com/v2/venues/explore?&client_id={}&client_secret={}&v={}&ll={},{}&radius={}&limit={}'.format(\n    CLIENT_ID, \n    CLIENT_SECRET, \n    VERSION, \n    latitude,\n    longitude,\n    radius, \n    LIMIT)\nresults = requests.get(url).json()\nvenues = results['response']['groups'][0]['items']\nnearby_venues_df = json_normalize(venues)\n\n## Filter columns by Venue ID, Venue Name, Venue Category & Venue Lat & Long\nfiltered_columns = ['venue.id','venue.name', 'venue.categories', 'venue.location.lat', 'venue.location.lng']\nnearby_venues_df =nearby_venues_df.loc[:, filtered_columns]# filter the category for each row\nnearby_venues_df['venue.categories'] = nearby_venues_df.apply(get_category_type, axis=1)# clean columns\nnearby_venues_df.columns = [col.split(\".\")[-1] for col in nearby_venues_df.columns]\nnearby_venues_df.rename(columns={'lat':'Latitude'}, inplace=True)\nnearby_venues_df.rename(columns={'lng':'Longitude'}, inplace=True)\nnearby_venues_df",
            "execution_count": 7,
            "outputs": [
                {
                    "output_type": "execute_result",
                    "execution_count": 7,
                    "data": {
                        "text/plain": "                          id                      name  \\\n0   4089ae00f964a520bff21ee3            Castro Theatre   \n1   49fe3629f964a5207f6f1fe3          Yoga Tree Castro   \n2   432a0b00f964a520de271fe3         Anchor Oyster Bar   \n3   5613f02d498e46b274c37a65              Philz Coffee   \n4   58f18932d7627e564887c486       The Castro Fountain   \n5   4b1f1fb8f964a5202e2424e3     Eye Gotcha Optometric   \n6   556b072d498e7bfc836cf039          SoulCycle Castro   \n7   5148960ee4b0905172eb88de           Castro Dog Park   \n8   574f605b498ee997a05fa2d7           Dog Eared Books   \n9   52efb33f498e5300bf66e245       R\u00e9veille Coffee Co.   \n10  4a92f191f964a5203a1e20e3             Urban Flowers   \n11  49c67fdbf964a52051571fe3           Swirl on Castro   \n12  4a3e8d9bf964a5200da31fe3                   Hortica   \n13  4c886bc8944e224b8a7a1c85    Castro Pride Flag Pole   \n14  49e55498f964a520bf631fe3           Blush! Wine Bar   \n15  4b204910f964a520083024e3                 Last Call   \n16  4b07637af964a52001fd22e3   Castro Village Wine Co.   \n17  43efd1ecf964a520712f1fe3                Hot Cookie   \n18  552d9a9a498ef6abfdae677a                      Lark   \n19  49c98ecef964a52077581fe3      Spike's Coffee & Tea   \n20  4ce453c3f5f9236a1bd58461       GLBT History Museum   \n21  4b00cb8ef964a520274122e3                   Frances   \n22  5ddc6fd067d73700089eec12                     Bhoga   \n23  4b2c1ae0f964a520b7c124e3        Lisa's Hair Design   \n24  51a25413498ec1faa53d1749                Local Take   \n25  432a0b00f964a520d7271fe3          Marcello's Pizza   \n26  584339f68ae36321db2805d3             Project Juice   \n27  4a42841bf964a520eaa51fe3              Rossi's Deli   \n28  57a6bd8c498e2540ca2b3268  Castro Rainbow Escalator   \n29  4bc38e68abf49521beedc393       Super Duper Burgers   \n\n                  categories   Latitude   Longitude  \n0        Indie Movie Theater  37.762044 -122.435022  \n1                Yoga Studio  37.761051 -122.436003  \n2         Seafood Restaurant  37.759708 -122.434910  \n3                Coffee Shop  37.760104 -122.434829  \n4             Ice Cream Shop  37.760052 -122.435024  \n5               Optical Shop  37.759651 -122.434967  \n6               Cycle Studio  37.762309 -122.435321  \n7                    Dog Run  37.759811 -122.436394  \n8                  Bookstore  37.761206 -122.434959  \n9                Coffee Shop  37.761104 -122.434430  \n10               Flower Shop  37.761005 -122.433469  \n11                  Wine Bar  37.759785 -122.435009  \n12             Garden Center  37.759904 -122.435025  \n13             Historic Site  37.762401 -122.435354  \n14                  Wine Bar  37.761260 -122.435116  \n15                   Gay Bar  37.761084 -122.432662  \n16                 Wine Shop  37.759285 -122.435232  \n17                    Bakery  37.762324 -122.435190  \n18  Mediterranean Restaurant  37.760993 -122.434275  \n19               Coffee Shop  37.759277 -122.435212  \n20            History Museum  37.760828 -122.435610  \n21   New American Restaurant  37.762765 -122.432198  \n22         Indian Restaurant  37.761407 -122.435188  \n23            Cosmetics Shop  37.762180 -122.435231  \n24       Arts & Crafts Store  37.762490 -122.434712  \n25               Pizza Place  37.762179 -122.435211  \n26                 Juice Bar  37.760716 -122.435023  \n27             Deli / Bodega  37.762103 -122.435208  \n28                Public Art  37.762417 -122.435368  \n29              Burger Joint  37.764024 -122.433703  ",
                        "text/html": "<div>\n<style scoped>\n    .dataframe tbody tr th:only-of-type {\n        vertical-align: middle;\n    }\n\n    .dataframe tbody tr th {\n        vertical-align: top;\n    }\n\n    .dataframe thead th {\n        text-align: right;\n    }\n</style>\n<table border=\"1\" class=\"dataframe\">\n  <thead>\n    <tr style=\"text-align: right;\">\n      <th></th>\n      <th>id</th>\n      <th>name</th>\n      <th>categories</th>\n      <th>Latitude</th>\n      <th>Longitude</th>\n    </tr>\n  </thead>\n  <tbody>\n    <tr>\n      <th>0</th>\n      <td>4089ae00f964a520bff21ee3</td>\n      <td>Castro Theatre</td>\n      <td>Indie Movie Theater</td>\n      <td>37.762044</td>\n      <td>-122.435022</td>\n    </tr>\n    <tr>\n      <th>1</th>\n      <td>49fe3629f964a5207f6f1fe3</td>\n      <td>Yoga Tree Castro</td>\n      <td>Yoga Studio</td>\n      <td>37.761051</td>\n      <td>-122.436003</td>\n    </tr>\n    <tr>\n      <th>2</th>\n      <td>432a0b00f964a520de271fe3</td>\n      <td>Anchor Oyster Bar</td>\n      <td>Seafood Restaurant</td>\n      <td>37.759708</td>\n      <td>-122.434910</td>\n    </tr>\n    <tr>\n      <th>3</th>\n      <td>5613f02d498e46b274c37a65</td>\n      <td>Philz Coffee</td>\n      <td>Coffee Shop</td>\n      <td>37.760104</td>\n      <td>-122.434829</td>\n    </tr>\n    <tr>\n      <th>4</th>\n      <td>58f18932d7627e564887c486</td>\n      <td>The Castro Fountain</td>\n      <td>Ice Cream Shop</td>\n      <td>37.760052</td>\n      <td>-122.435024</td>\n    </tr>\n    <tr>\n      <th>5</th>\n      <td>4b1f1fb8f964a5202e2424e3</td>\n      <td>Eye Gotcha Optometric</td>\n      <td>Optical Shop</td>\n      <td>37.759651</td>\n      <td>-122.434967</td>\n    </tr>\n    <tr>\n      <th>6</th>\n      <td>556b072d498e7bfc836cf039</td>\n      <td>SoulCycle Castro</td>\n      <td>Cycle Studio</td>\n      <td>37.762309</td>\n      <td>-122.435321</td>\n    </tr>\n    <tr>\n      <th>7</th>\n      <td>5148960ee4b0905172eb88de</td>\n      <td>Castro Dog Park</td>\n      <td>Dog Run</td>\n      <td>37.759811</td>\n      <td>-122.436394</td>\n    </tr>\n    <tr>\n      <th>8</th>\n      <td>574f605b498ee997a05fa2d7</td>\n      <td>Dog Eared Books</td>\n      <td>Bookstore</td>\n      <td>37.761206</td>\n      <td>-122.434959</td>\n    </tr>\n    <tr>\n      <th>9</th>\n      <td>52efb33f498e5300bf66e245</td>\n      <td>R\u00e9veille Coffee Co.</td>\n      <td>Coffee Shop</td>\n      <td>37.761104</td>\n      <td>-122.434430</td>\n    </tr>\n    <tr>\n      <th>10</th>\n      <td>4a92f191f964a5203a1e20e3</td>\n      <td>Urban Flowers</td>\n      <td>Flower Shop</td>\n      <td>37.761005</td>\n      <td>-122.433469</td>\n    </tr>\n    <tr>\n      <th>11</th>\n      <td>49c67fdbf964a52051571fe3</td>\n      <td>Swirl on Castro</td>\n      <td>Wine Bar</td>\n      <td>37.759785</td>\n      <td>-122.435009</td>\n    </tr>\n    <tr>\n      <th>12</th>\n      <td>4a3e8d9bf964a5200da31fe3</td>\n      <td>Hortica</td>\n      <td>Garden Center</td>\n      <td>37.759904</td>\n      <td>-122.435025</td>\n    </tr>\n    <tr>\n      <th>13</th>\n      <td>4c886bc8944e224b8a7a1c85</td>\n      <td>Castro Pride Flag Pole</td>\n      <td>Historic Site</td>\n      <td>37.762401</td>\n      <td>-122.435354</td>\n    </tr>\n    <tr>\n      <th>14</th>\n      <td>49e55498f964a520bf631fe3</td>\n      <td>Blush! Wine Bar</td>\n      <td>Wine Bar</td>\n      <td>37.761260</td>\n      <td>-122.435116</td>\n    </tr>\n    <tr>\n      <th>15</th>\n      <td>4b204910f964a520083024e3</td>\n      <td>Last Call</td>\n      <td>Gay Bar</td>\n      <td>37.761084</td>\n      <td>-122.432662</td>\n    </tr>\n    <tr>\n      <th>16</th>\n      <td>4b07637af964a52001fd22e3</td>\n      <td>Castro Village Wine Co.</td>\n      <td>Wine Shop</td>\n      <td>37.759285</td>\n      <td>-122.435232</td>\n    </tr>\n    <tr>\n      <th>17</th>\n      <td>43efd1ecf964a520712f1fe3</td>\n      <td>Hot Cookie</td>\n      <td>Bakery</td>\n      <td>37.762324</td>\n      <td>-122.435190</td>\n    </tr>\n    <tr>\n      <th>18</th>\n      <td>552d9a9a498ef6abfdae677a</td>\n      <td>Lark</td>\n      <td>Mediterranean Restaurant</td>\n      <td>37.760993</td>\n      <td>-122.434275</td>\n    </tr>\n    <tr>\n      <th>19</th>\n      <td>49c98ecef964a52077581fe3</td>\n      <td>Spike's Coffee &amp; Tea</td>\n      <td>Coffee Shop</td>\n      <td>37.759277</td>\n      <td>-122.435212</td>\n    </tr>\n    <tr>\n      <th>20</th>\n      <td>4ce453c3f5f9236a1bd58461</td>\n      <td>GLBT History Museum</td>\n      <td>History Museum</td>\n      <td>37.760828</td>\n      <td>-122.435610</td>\n    </tr>\n    <tr>\n      <th>21</th>\n      <td>4b00cb8ef964a520274122e3</td>\n      <td>Frances</td>\n      <td>New American Restaurant</td>\n      <td>37.762765</td>\n      <td>-122.432198</td>\n    </tr>\n    <tr>\n      <th>22</th>\n      <td>5ddc6fd067d73700089eec12</td>\n      <td>Bhoga</td>\n      <td>Indian Restaurant</td>\n      <td>37.761407</td>\n      <td>-122.435188</td>\n    </tr>\n    <tr>\n      <th>23</th>\n      <td>4b2c1ae0f964a520b7c124e3</td>\n      <td>Lisa's Hair Design</td>\n      <td>Cosmetics Shop</td>\n      <td>37.762180</td>\n      <td>-122.435231</td>\n    </tr>\n    <tr>\n      <th>24</th>\n      <td>51a25413498ec1faa53d1749</td>\n      <td>Local Take</td>\n      <td>Arts &amp; Crafts Store</td>\n      <td>37.762490</td>\n      <td>-122.434712</td>\n    </tr>\n    <tr>\n      <th>25</th>\n      <td>432a0b00f964a520d7271fe3</td>\n      <td>Marcello's Pizza</td>\n      <td>Pizza Place</td>\n      <td>37.762179</td>\n      <td>-122.435211</td>\n    </tr>\n    <tr>\n      <th>26</th>\n      <td>584339f68ae36321db2805d3</td>\n      <td>Project Juice</td>\n      <td>Juice Bar</td>\n      <td>37.760716</td>\n      <td>-122.435023</td>\n    </tr>\n    <tr>\n      <th>27</th>\n      <td>4a42841bf964a520eaa51fe3</td>\n      <td>Rossi's Deli</td>\n      <td>Deli / Bodega</td>\n      <td>37.762103</td>\n      <td>-122.435208</td>\n    </tr>\n    <tr>\n      <th>28</th>\n      <td>57a6bd8c498e2540ca2b3268</td>\n      <td>Castro Rainbow Escalator</td>\n      <td>Public Art</td>\n      <td>37.762417</td>\n      <td>-122.435368</td>\n    </tr>\n    <tr>\n      <th>29</th>\n      <td>4bc38e68abf49521beedc393</td>\n      <td>Super Duper Burgers</td>\n      <td>Burger Joint</td>\n      <td>37.764024</td>\n      <td>-122.433703</td>\n    </tr>\n  </tbody>\n</table>\n</div>"
                    },
                    "metadata": {}
                }
            ]
        },
        {
            "metadata": {},
            "cell_type": "markdown",
            "source": "#### Rate Limiting: I have several loops in this notebook that appends data from Foursquare to my dataframe which causes a rate limiting error. For the sake of avoiding the below loop which grabs rating and adds to my data frame, I have taken the results of the API request and add it manually to the dataframe in the code under the commented code below."
        },
        {
            "metadata": {},
            "cell_type": "code",
            "source": "#venues = nearby_venues_df.copy()\n#venues['rating'] = \"\"\n\n\n#def getratings(clientid,secret,vrsn,pd):\n#    for x in range(len(venues)):\n#        venue_id = venues['id'].iloc[x]\n#        url = 'https://api.foursquare.com/v2/venues/{}?client_id={}&client_secret={}&v={}'.format(venue_id, CLIENT_ID, CLIENT_SECRET, VERSION)\n#        result = requests.get(url).json()\n#        venues['rating'].iloc[x] = result['response']['venue']['rating']  \n#    print(venues[['name','categories','rating']])\n      \n#getratings(CLIENT_ID,CLIENT_SECRET,VERSION,venues)",
            "execution_count": 8,
            "outputs": []
        },
        {
            "metadata": {},
            "cell_type": "code",
            "source": "venues = nearby_venues_df.copy()\nvenues['rating'] = \"\"\nvenues['rating'] = [9.4, 9.1, 9.1, 9.1, 9, 9, 8.9, 8.9, 8.9, 8.9, 8.7, 8.7, 8.6, 8.5, 8.5, 8.5, 8.5, 8.5, 8.5, 8.4, 8.4, 9.1, 8.3, 8.3, 8.3, 8.2, 8.2, 8.2, 8.2, 8.1 ]\nvenues.sort_values('rating', ascending=False,inplace=True)\nvenues",
            "execution_count": 9,
            "outputs": [
                {
                    "output_type": "execute_result",
                    "execution_count": 9,
                    "data": {
                        "text/plain": "                          id                      name  \\\n0   4089ae00f964a520bff21ee3            Castro Theatre   \n2   432a0b00f964a520de271fe3         Anchor Oyster Bar   \n3   5613f02d498e46b274c37a65              Philz Coffee   \n21  4b00cb8ef964a520274122e3                   Frances   \n1   49fe3629f964a5207f6f1fe3          Yoga Tree Castro   \n4   58f18932d7627e564887c486       The Castro Fountain   \n5   4b1f1fb8f964a5202e2424e3     Eye Gotcha Optometric   \n6   556b072d498e7bfc836cf039          SoulCycle Castro   \n7   5148960ee4b0905172eb88de           Castro Dog Park   \n8   574f605b498ee997a05fa2d7           Dog Eared Books   \n9   52efb33f498e5300bf66e245       R\u00e9veille Coffee Co.   \n10  4a92f191f964a5203a1e20e3             Urban Flowers   \n11  49c67fdbf964a52051571fe3           Swirl on Castro   \n12  4a3e8d9bf964a5200da31fe3                   Hortica   \n17  43efd1ecf964a520712f1fe3                Hot Cookie   \n18  552d9a9a498ef6abfdae677a                      Lark   \n15  4b204910f964a520083024e3                 Last Call   \n16  4b07637af964a52001fd22e3   Castro Village Wine Co.   \n14  49e55498f964a520bf631fe3           Blush! Wine Bar   \n13  4c886bc8944e224b8a7a1c85    Castro Pride Flag Pole   \n19  49c98ecef964a52077581fe3      Spike's Coffee & Tea   \n20  4ce453c3f5f9236a1bd58461       GLBT History Museum   \n22  5ddc6fd067d73700089eec12                     Bhoga   \n23  4b2c1ae0f964a520b7c124e3        Lisa's Hair Design   \n24  51a25413498ec1faa53d1749                Local Take   \n25  432a0b00f964a520d7271fe3          Marcello's Pizza   \n26  584339f68ae36321db2805d3             Project Juice   \n27  4a42841bf964a520eaa51fe3              Rossi's Deli   \n28  57a6bd8c498e2540ca2b3268  Castro Rainbow Escalator   \n29  4bc38e68abf49521beedc393       Super Duper Burgers   \n\n                  categories   Latitude   Longitude  rating  \n0        Indie Movie Theater  37.762044 -122.435022     9.4  \n2         Seafood Restaurant  37.759708 -122.434910     9.1  \n3                Coffee Shop  37.760104 -122.434829     9.1  \n21   New American Restaurant  37.762765 -122.432198     9.1  \n1                Yoga Studio  37.761051 -122.436003     9.1  \n4             Ice Cream Shop  37.760052 -122.435024     9.0  \n5               Optical Shop  37.759651 -122.434967     9.0  \n6               Cycle Studio  37.762309 -122.435321     8.9  \n7                    Dog Run  37.759811 -122.436394     8.9  \n8                  Bookstore  37.761206 -122.434959     8.9  \n9                Coffee Shop  37.761104 -122.434430     8.9  \n10               Flower Shop  37.761005 -122.433469     8.7  \n11                  Wine Bar  37.759785 -122.435009     8.7  \n12             Garden Center  37.759904 -122.435025     8.6  \n17                    Bakery  37.762324 -122.435190     8.5  \n18  Mediterranean Restaurant  37.760993 -122.434275     8.5  \n15                   Gay Bar  37.761084 -122.432662     8.5  \n16                 Wine Shop  37.759285 -122.435232     8.5  \n14                  Wine Bar  37.761260 -122.435116     8.5  \n13             Historic Site  37.762401 -122.435354     8.5  \n19               Coffee Shop  37.759277 -122.435212     8.4  \n20            History Museum  37.760828 -122.435610     8.4  \n22         Indian Restaurant  37.761407 -122.435188     8.3  \n23            Cosmetics Shop  37.762180 -122.435231     8.3  \n24       Arts & Crafts Store  37.762490 -122.434712     8.3  \n25               Pizza Place  37.762179 -122.435211     8.2  \n26                 Juice Bar  37.760716 -122.435023     8.2  \n27             Deli / Bodega  37.762103 -122.435208     8.2  \n28                Public Art  37.762417 -122.435368     8.2  \n29              Burger Joint  37.764024 -122.433703     8.1  ",
                        "text/html": "<div>\n<style scoped>\n    .dataframe tbody tr th:only-of-type {\n        vertical-align: middle;\n    }\n\n    .dataframe tbody tr th {\n        vertical-align: top;\n    }\n\n    .dataframe thead th {\n        text-align: right;\n    }\n</style>\n<table border=\"1\" class=\"dataframe\">\n  <thead>\n    <tr style=\"text-align: right;\">\n      <th></th>\n      <th>id</th>\n      <th>name</th>\n      <th>categories</th>\n      <th>Latitude</th>\n      <th>Longitude</th>\n      <th>rating</th>\n    </tr>\n  </thead>\n  <tbody>\n    <tr>\n      <th>0</th>\n      <td>4089ae00f964a520bff21ee3</td>\n      <td>Castro Theatre</td>\n      <td>Indie Movie Theater</td>\n      <td>37.762044</td>\n      <td>-122.435022</td>\n      <td>9.4</td>\n    </tr>\n    <tr>\n      <th>2</th>\n      <td>432a0b00f964a520de271fe3</td>\n      <td>Anchor Oyster Bar</td>\n      <td>Seafood Restaurant</td>\n      <td>37.759708</td>\n      <td>-122.434910</td>\n      <td>9.1</td>\n    </tr>\n    <tr>\n      <th>3</th>\n      <td>5613f02d498e46b274c37a65</td>\n      <td>Philz Coffee</td>\n      <td>Coffee Shop</td>\n      <td>37.760104</td>\n      <td>-122.434829</td>\n      <td>9.1</td>\n    </tr>\n    <tr>\n      <th>21</th>\n      <td>4b00cb8ef964a520274122e3</td>\n      <td>Frances</td>\n      <td>New American Restaurant</td>\n      <td>37.762765</td>\n      <td>-122.432198</td>\n      <td>9.1</td>\n    </tr>\n    <tr>\n      <th>1</th>\n      <td>49fe3629f964a5207f6f1fe3</td>\n      <td>Yoga Tree Castro</td>\n      <td>Yoga Studio</td>\n      <td>37.761051</td>\n      <td>-122.436003</td>\n      <td>9.1</td>\n    </tr>\n    <tr>\n      <th>4</th>\n      <td>58f18932d7627e564887c486</td>\n      <td>The Castro Fountain</td>\n      <td>Ice Cream Shop</td>\n      <td>37.760052</td>\n      <td>-122.435024</td>\n      <td>9.0</td>\n    </tr>\n    <tr>\n      <th>5</th>\n      <td>4b1f1fb8f964a5202e2424e3</td>\n      <td>Eye Gotcha Optometric</td>\n      <td>Optical Shop</td>\n      <td>37.759651</td>\n      <td>-122.434967</td>\n      <td>9.0</td>\n    </tr>\n    <tr>\n      <th>6</th>\n      <td>556b072d498e7bfc836cf039</td>\n      <td>SoulCycle Castro</td>\n      <td>Cycle Studio</td>\n      <td>37.762309</td>\n      <td>-122.435321</td>\n      <td>8.9</td>\n    </tr>\n    <tr>\n      <th>7</th>\n      <td>5148960ee4b0905172eb88de</td>\n      <td>Castro Dog Park</td>\n      <td>Dog Run</td>\n      <td>37.759811</td>\n      <td>-122.436394</td>\n      <td>8.9</td>\n    </tr>\n    <tr>\n      <th>8</th>\n      <td>574f605b498ee997a05fa2d7</td>\n      <td>Dog Eared Books</td>\n      <td>Bookstore</td>\n      <td>37.761206</td>\n      <td>-122.434959</td>\n      <td>8.9</td>\n    </tr>\n    <tr>\n      <th>9</th>\n      <td>52efb33f498e5300bf66e245</td>\n      <td>R\u00e9veille Coffee Co.</td>\n      <td>Coffee Shop</td>\n      <td>37.761104</td>\n      <td>-122.434430</td>\n      <td>8.9</td>\n    </tr>\n    <tr>\n      <th>10</th>\n      <td>4a92f191f964a5203a1e20e3</td>\n      <td>Urban Flowers</td>\n      <td>Flower Shop</td>\n      <td>37.761005</td>\n      <td>-122.433469</td>\n      <td>8.7</td>\n    </tr>\n    <tr>\n      <th>11</th>\n      <td>49c67fdbf964a52051571fe3</td>\n      <td>Swirl on Castro</td>\n      <td>Wine Bar</td>\n      <td>37.759785</td>\n      <td>-122.435009</td>\n      <td>8.7</td>\n    </tr>\n    <tr>\n      <th>12</th>\n      <td>4a3e8d9bf964a5200da31fe3</td>\n      <td>Hortica</td>\n      <td>Garden Center</td>\n      <td>37.759904</td>\n      <td>-122.435025</td>\n      <td>8.6</td>\n    </tr>\n    <tr>\n      <th>17</th>\n      <td>43efd1ecf964a520712f1fe3</td>\n      <td>Hot Cookie</td>\n      <td>Bakery</td>\n      <td>37.762324</td>\n      <td>-122.435190</td>\n      <td>8.5</td>\n    </tr>\n    <tr>\n      <th>18</th>\n      <td>552d9a9a498ef6abfdae677a</td>\n      <td>Lark</td>\n      <td>Mediterranean Restaurant</td>\n      <td>37.760993</td>\n      <td>-122.434275</td>\n      <td>8.5</td>\n    </tr>\n    <tr>\n      <th>15</th>\n      <td>4b204910f964a520083024e3</td>\n      <td>Last Call</td>\n      <td>Gay Bar</td>\n      <td>37.761084</td>\n      <td>-122.432662</td>\n      <td>8.5</td>\n    </tr>\n    <tr>\n      <th>16</th>\n      <td>4b07637af964a52001fd22e3</td>\n      <td>Castro Village Wine Co.</td>\n      <td>Wine Shop</td>\n      <td>37.759285</td>\n      <td>-122.435232</td>\n      <td>8.5</td>\n    </tr>\n    <tr>\n      <th>14</th>\n      <td>49e55498f964a520bf631fe3</td>\n      <td>Blush! Wine Bar</td>\n      <td>Wine Bar</td>\n      <td>37.761260</td>\n      <td>-122.435116</td>\n      <td>8.5</td>\n    </tr>\n    <tr>\n      <th>13</th>\n      <td>4c886bc8944e224b8a7a1c85</td>\n      <td>Castro Pride Flag Pole</td>\n      <td>Historic Site</td>\n      <td>37.762401</td>\n      <td>-122.435354</td>\n      <td>8.5</td>\n    </tr>\n    <tr>\n      <th>19</th>\n      <td>49c98ecef964a52077581fe3</td>\n      <td>Spike's Coffee &amp; Tea</td>\n      <td>Coffee Shop</td>\n      <td>37.759277</td>\n      <td>-122.435212</td>\n      <td>8.4</td>\n    </tr>\n    <tr>\n      <th>20</th>\n      <td>4ce453c3f5f9236a1bd58461</td>\n      <td>GLBT History Museum</td>\n      <td>History Museum</td>\n      <td>37.760828</td>\n      <td>-122.435610</td>\n      <td>8.4</td>\n    </tr>\n    <tr>\n      <th>22</th>\n      <td>5ddc6fd067d73700089eec12</td>\n      <td>Bhoga</td>\n      <td>Indian Restaurant</td>\n      <td>37.761407</td>\n      <td>-122.435188</td>\n      <td>8.3</td>\n    </tr>\n    <tr>\n      <th>23</th>\n      <td>4b2c1ae0f964a520b7c124e3</td>\n      <td>Lisa's Hair Design</td>\n      <td>Cosmetics Shop</td>\n      <td>37.762180</td>\n      <td>-122.435231</td>\n      <td>8.3</td>\n    </tr>\n    <tr>\n      <th>24</th>\n      <td>51a25413498ec1faa53d1749</td>\n      <td>Local Take</td>\n      <td>Arts &amp; Crafts Store</td>\n      <td>37.762490</td>\n      <td>-122.434712</td>\n      <td>8.3</td>\n    </tr>\n    <tr>\n      <th>25</th>\n      <td>432a0b00f964a520d7271fe3</td>\n      <td>Marcello's Pizza</td>\n      <td>Pizza Place</td>\n      <td>37.762179</td>\n      <td>-122.435211</td>\n      <td>8.2</td>\n    </tr>\n    <tr>\n      <th>26</th>\n      <td>584339f68ae36321db2805d3</td>\n      <td>Project Juice</td>\n      <td>Juice Bar</td>\n      <td>37.760716</td>\n      <td>-122.435023</td>\n      <td>8.2</td>\n    </tr>\n    <tr>\n      <th>27</th>\n      <td>4a42841bf964a520eaa51fe3</td>\n      <td>Rossi's Deli</td>\n      <td>Deli / Bodega</td>\n      <td>37.762103</td>\n      <td>-122.435208</td>\n      <td>8.2</td>\n    </tr>\n    <tr>\n      <th>28</th>\n      <td>57a6bd8c498e2540ca2b3268</td>\n      <td>Castro Rainbow Escalator</td>\n      <td>Public Art</td>\n      <td>37.762417</td>\n      <td>-122.435368</td>\n      <td>8.2</td>\n    </tr>\n    <tr>\n      <th>29</th>\n      <td>4bc38e68abf49521beedc393</td>\n      <td>Super Duper Burgers</td>\n      <td>Burger Joint</td>\n      <td>37.764024</td>\n      <td>-122.433703</td>\n      <td>8.1</td>\n    </tr>\n  </tbody>\n</table>\n</div>"
                    },
                    "metadata": {}
                }
            ]
        },
        {
            "metadata": {},
            "cell_type": "markdown",
            "source": "#### We will assume that since the dataframe ranks venues in descending order the last venue in the dataframe has the lowest rating(let's also assume there is a larger rating differentiation & the value is really low)"
        },
        {
            "metadata": {},
            "cell_type": "code",
            "source": "venue_id = '4a5cf00cf964a520e6bc1fe3' # ID of Anchor Oyster Bar\nurl = 'https://api.foursquare.com/v2/venues/{}?client_id={}&client_secret={}&v={}'.format(venue_id, CLIENT_ID, CLIENT_SECRET, VERSION)\n\nresult = requests.get(url).json()\n\ntry:\n    print('The rating of the venue', result['response']['venue']['name'], 'is', result['response']['venue']['rating'])\nexcept quota_exceeded as err:\n    print('Rate limited error, please use different creds or wait until the reset')\nexcept ServiceTimedOut as err:\n    print('Service Timed out, please execute again or add a timeout to the code')",
            "execution_count": null,
            "outputs": [
                {
                    "output_type": "stream",
                    "text": "The rating of the venue Louie's Barber Shop is 8.1\n",
                    "name": "stdout"
                }
            ]
        },
        {
            "metadata": {},
            "cell_type": "markdown",
            "source": "### 2.3\tData Cleansing & Preprocessing\n\nNow that we have done our web scraping and downloads to source our data, we must cleanse & preprocess it. We will identify within our dataframes missing data, duplicates, anomalies, corruption and fix or remove them. We will also rename columns and perform some merging of dataframes"
        },
        {
            "metadata": {},
            "cell_type": "markdown",
            "source": "#### San Francisco neighborhood data cleanse/preprocessing\n\n##### We add two empty columns(lat,long) to the San Francisco Neighborhood table to store coordinates of each neighborhood"
        },
        {
            "metadata": {},
            "cell_type": "code",
            "source": "# Rename columns to more meaningful names\nsanfrancisconeighborhood_df.columns = ['Zip Code', 'Neighborhood' , 'Population', 'Drop1', 'Drop2']\n# Drop NaN columns \nsanfrancisconeighborhood_df = sanfrancisconeighborhood_df.drop(columns=['Drop1', 'Drop2'])\n# Drop duplicate values in column Zip Code\nsanfrancisconeighborhood_df = sanfrancisconeighborhood_df.drop_duplicates(subset='Zip Code', keep='first')\n# Sort values by zip code so irrelevant data goes to bottom\nsanfrancisconeighborhood_df = sanfrancisconeighborhood_df.sort_values('Zip Code')\n# Count of remaining records\nprint(sanfrancisconeighborhood_df.shape[0])\n# Drop columns with irrelevant data\nsanfrancisconeighborhood_df = sanfrancisconeighborhood_df.iloc[0:-6,]\n# Fix Formatting by renaming values in Neighborhood column to be able to use Foursquare API\nsanfrancisconeighborhood_df['Neighborhood'] = sanfrancisconeighborhood_df['Neighborhood'].replace({'Hayes Valley/Tenderloin/North of Market': 'Tenderloin', 'Polk/Russian Hill (Nob Hill)': 'Nob Hill', 'St. Francis Wood/Miraloma/West Portal': 'Miraloma', 'Visitacion Valley/Sunnydale': 'Visitacion Valley', 'Twin Peaks-Glen Park':'Twin Peaks'})\nsanfrancisconeighborhood_df['Neighborhood'] = sanfrancisconeighborhood_df['Neighborhood'].replace({'Inner Mission/Bernal Heights': 'Mission District', 'Ingelside-Excelsior/Crocker-Amazon': 'Excelsior', 'Castro/Noe Valley': 'Castro', 'Western Addition/Japantown': 'Japantown', 'Parkside/Forest Hill':'Forest Hill', 'North Beach/Chinatown':'North Beach'})\n# Print result\nsanfrancisconeighborhood_df.head(3)\nsanfrancisconeighborhood_df['long'] = \"\"\nsanfrancisconeighborhood_df['lat'] = \"\"\nsanfrancisconeighborhood_df",
            "execution_count": null,
            "outputs": [
                {
                    "output_type": "stream",
                    "text": "27\n",
                    "name": "stdout"
                },
                {
                    "output_type": "execute_result",
                    "execution_count": 11,
                    "data": {
                        "text/plain": "   Zip Code           Neighborhood Population long lat\n1     94102             Tenderloin      28991         \n2     94103        South of Market      23016         \n3     94107           Potrero Hill      17368         \n4     94108              Chinatown      13716         \n5     94109               Nob Hill      56322         \n6     94110       Mission District      74633         \n7     94112              Excelsior      73104         \n8     94114                 Castro      30574         \n9     94115              Japantown      33115         \n10    94116            Forest Hill      42958         \n11    94117         Haight-Ashbury      38738         \n12    94118         Inner Richmond      38939         \n13    94121         Outer Richmond      42473         \n14    94122                 Sunset      55492         \n15    94123                 Marina      22903         \n16    94124  Bayview-Hunters Point      33170         \n17    94127               Miraloma      20624         \n18    94131             Twin Peaks      27897         \n19    94132            Lake Merced      26291         \n20    94133            North Beach      26827         \n21    94134      Visitacion Valley      40134         ",
                        "text/html": "<div>\n<style scoped>\n    .dataframe tbody tr th:only-of-type {\n        vertical-align: middle;\n    }\n\n    .dataframe tbody tr th {\n        vertical-align: top;\n    }\n\n    .dataframe thead th {\n        text-align: right;\n    }\n</style>\n<table border=\"1\" class=\"dataframe\">\n  <thead>\n    <tr style=\"text-align: right;\">\n      <th></th>\n      <th>Zip Code</th>\n      <th>Neighborhood</th>\n      <th>Population</th>\n      <th>long</th>\n      <th>lat</th>\n    </tr>\n  </thead>\n  <tbody>\n    <tr>\n      <th>1</th>\n      <td>94102</td>\n      <td>Tenderloin</td>\n      <td>28991</td>\n      <td></td>\n      <td></td>\n    </tr>\n    <tr>\n      <th>2</th>\n      <td>94103</td>\n      <td>South of Market</td>\n      <td>23016</td>\n      <td></td>\n      <td></td>\n    </tr>\n    <tr>\n      <th>3</th>\n      <td>94107</td>\n      <td>Potrero Hill</td>\n      <td>17368</td>\n      <td></td>\n      <td></td>\n    </tr>\n    <tr>\n      <th>4</th>\n      <td>94108</td>\n      <td>Chinatown</td>\n      <td>13716</td>\n      <td></td>\n      <td></td>\n    </tr>\n    <tr>\n      <th>5</th>\n      <td>94109</td>\n      <td>Nob Hill</td>\n      <td>56322</td>\n      <td></td>\n      <td></td>\n    </tr>\n    <tr>\n      <th>6</th>\n      <td>94110</td>\n      <td>Mission District</td>\n      <td>74633</td>\n      <td></td>\n      <td></td>\n    </tr>\n    <tr>\n      <th>7</th>\n      <td>94112</td>\n      <td>Excelsior</td>\n      <td>73104</td>\n      <td></td>\n      <td></td>\n    </tr>\n    <tr>\n      <th>8</th>\n      <td>94114</td>\n      <td>Castro</td>\n      <td>30574</td>\n      <td></td>\n      <td></td>\n    </tr>\n    <tr>\n      <th>9</th>\n      <td>94115</td>\n      <td>Japantown</td>\n      <td>33115</td>\n      <td></td>\n      <td></td>\n    </tr>\n    <tr>\n      <th>10</th>\n      <td>94116</td>\n      <td>Forest Hill</td>\n      <td>42958</td>\n      <td></td>\n      <td></td>\n    </tr>\n    <tr>\n      <th>11</th>\n      <td>94117</td>\n      <td>Haight-Ashbury</td>\n      <td>38738</td>\n      <td></td>\n      <td></td>\n    </tr>\n    <tr>\n      <th>12</th>\n      <td>94118</td>\n      <td>Inner Richmond</td>\n      <td>38939</td>\n      <td></td>\n      <td></td>\n    </tr>\n    <tr>\n      <th>13</th>\n      <td>94121</td>\n      <td>Outer Richmond</td>\n      <td>42473</td>\n      <td></td>\n      <td></td>\n    </tr>\n    <tr>\n      <th>14</th>\n      <td>94122</td>\n      <td>Sunset</td>\n      <td>55492</td>\n      <td></td>\n      <td></td>\n    </tr>\n    <tr>\n      <th>15</th>\n      <td>94123</td>\n      <td>Marina</td>\n      <td>22903</td>\n      <td></td>\n      <td></td>\n    </tr>\n    <tr>\n      <th>16</th>\n      <td>94124</td>\n      <td>Bayview-Hunters Point</td>\n      <td>33170</td>\n      <td></td>\n      <td></td>\n    </tr>\n    <tr>\n      <th>17</th>\n      <td>94127</td>\n      <td>Miraloma</td>\n      <td>20624</td>\n      <td></td>\n      <td></td>\n    </tr>\n    <tr>\n      <th>18</th>\n      <td>94131</td>\n      <td>Twin Peaks</td>\n      <td>27897</td>\n      <td></td>\n      <td></td>\n    </tr>\n    <tr>\n      <th>19</th>\n      <td>94132</td>\n      <td>Lake Merced</td>\n      <td>26291</td>\n      <td></td>\n      <td></td>\n    </tr>\n    <tr>\n      <th>20</th>\n      <td>94133</td>\n      <td>North Beach</td>\n      <td>26827</td>\n      <td></td>\n      <td></td>\n    </tr>\n    <tr>\n      <th>21</th>\n      <td>94134</td>\n      <td>Visitacion Valley</td>\n      <td>40134</td>\n      <td></td>\n      <td></td>\n    </tr>\n  </tbody>\n</table>\n</div>"
                    },
                    "metadata": {}
                }
            ]
        },
        {
            "metadata": {},
            "cell_type": "markdown",
            "source": "##### We create a function that calls Nominatim(this converts addresses into a location) then we loop through the adresses populating each with a set of latitutde and longitude coordinates back into the dataframe"
        },
        {
            "metadata": {},
            "cell_type": "code",
            "source": "def getcoords1(clientid,secret,vrsn,lmt,pd):\n    geolocator = Nominatim(user_agent=\"foursquare_agent\")\n    for x in range(len(sanfrancisconeighborhood_df)):\n        location = geolocator.geocode(sanfrancisconeighborhood_df['Neighborhood'].iloc[x],timeout=10)\n        sanfrancisconeighborhood_df['lat'].iloc[x] = location.latitude\n        sanfrancisconeighborhood_df['long'].iloc[x] = location.longitude\n    print(sanfrancisconeighborhood_df)\n    \n        \ngetcoords1(CLIENT_ID,CLIENT_SECRET,VERSION,LIMIT,sanfrancisconeighborhood_df)",
            "execution_count": null,
            "outputs": []
        },
        {
            "metadata": {},
            "cell_type": "markdown",
            "source": "#### Preprocessing of SF Crime Data\n\n##### We rename the columns & drop blank values in the crime dataset"
        },
        {
            "metadata": {},
            "cell_type": "code",
            "source": "#Rename columns to names more meaningful\nsfcrimebyneighborhood_df.rename(columns={'PdDistrict':'Neighborhood'}, inplace=True)\nsfcrimebyneighborhood_df.rename(columns={'X':'Longitude'}, inplace=True)\nsfcrimebyneighborhood_df.rename(columns={'Y':'Latitude'}, inplace=True)\nsfcrimebyneighborhood_df.rename(columns={'Descript':'Description'}, inplace=True)\n#Drop NaN values\nsfcrimebyneighborhood_df=sfcrimebyneighborhood_df.dropna(subset=['Longitude'])\nsfcrimebyneighborhood_df=sfcrimebyneighborhood_df.dropna(subset=['Latitude'])\nsfcrimebyneighborhood_df.head(3)",
            "execution_count": null,
            "outputs": []
        },
        {
            "metadata": {},
            "cell_type": "markdown",
            "source": "### 2.4\tExploratory Data Analysis "
        },
        {
            "metadata": {},
            "cell_type": "markdown",
            "source": "#### The data in the below dataframe are of checkins the most popular checkins ( >10000 checkins ) for a day's worth of data. For the sake of the assignment let's assume all data is current so disregard the date."
        },
        {
            "metadata": {},
            "cell_type": "code",
            "source": "# This data in the below dataframe shows checkin data for the most venues checked into\nbody = client_8c374c33edfe4768aefdf80edd7dcdf1.get_object(Bucket='datascienceprofessionalcertificat-donotdelete-pr-6tfwiuoky1hud9',Key='FoursquareCheckIns.csv')['Body']\n# add missing __iter__ method, so pandas accepts body as file-like object\nif not hasattr(body, \"__iter__\"): body.__iter__ = types.MethodType( __iter__, body )\n\ncheckindatadf = pd.read_csv(body)\ncheckindatadf.head()\n\n\n# The data in the below dataframe is the POIs that are checked in to \nbody = client_8c374c33edfe4768aefdf80edd7dcdf1.get_object(Bucket='datascienceprofessionalcertificat-donotdelete-pr-6tfwiuoky1hud9',Key='FoursquarePOIs.csv')['Body']\n# add missing __iter__ method, so pandas accepts body as file-like object\nif not hasattr(body, \"__iter__\"): body.__iter__ = types.MethodType( __iter__, body )\n\npointsofinterestdf = pd.read_csv(body)\npointsofinterestdf.sort_values('venue', inplace=True)\npointsofinterestdf\n\npointsofinterestdf['venue'].value_counts()\n\n# The data in the below dataframe is city data where the venues are located\nbody = client_8c374c33edfe4768aefdf80edd7dcdf1.get_object(Bucket='datascienceprofessionalcertificat-donotdelete-pr-6tfwiuoky1hud9',Key='FoursquareCities.csv')['Body']\n# add missing __iter__ method, so pandas accepts body as file-like object\nif not hasattr(body, \"__iter__\"): body.__iter__ = types.MethodType( __iter__, body )\n\ncitydatadf = pd.read_csv(body)\ncitydatadf\n",
            "execution_count": null,
            "outputs": []
        },
        {
            "metadata": {},
            "cell_type": "code",
            "source": "##### We will explore details of the venue at a specific set of coordinates, what we know is that it is a frequently checked in venue",
            "execution_count": null,
            "outputs": []
        },
        {
            "metadata": {},
            "cell_type": "code",
            "source": "venue_id = '4fa862b3e4b0ebff2f749f06' # ID of Harry's Italian Pizza Bar\nurl = 'https://api.foursquare.com/v2/venues/{}?client_id={}&client_secret={}&v={}'.format(venue_id, CLIENT_ID, CLIENT_SECRET, VERSION)\n\nresult = requests.get(url).json()\nresult['response']['venue']",
            "execution_count": null,
            "outputs": []
        },
        {
            "metadata": {},
            "cell_type": "markdown",
            "source": "#### Cluster Neighborhoods with population >  30000"
        },
        {
            "metadata": {},
            "cell_type": "code",
            "source": "#retrieve the number of rows with population > 30000\nsanfrancisconeighborhood_df[[\"Population\"]] = sanfrancisconeighborhood_df[[\"Population\"]].apply(pd.to_numeric)\nsanfrancisconeighborhood_highpop_df = sanfrancisconeighborhood_df[(sanfrancisconeighborhood_df[\"Population\"] > 30000)]\nsanfrancisconeighborhood_highpop_df",
            "execution_count": null,
            "outputs": []
        },
        {
            "metadata": {},
            "cell_type": "code",
            "source": "#produce a map that shows neighborhood clusters\nclusterneighmap=folium.Map(location=[latitude,longitude],zoom_start=11)\nfor lat,lng,neighborhood,population in zip(sanfrancisconeighborhood_highpop_df['lat'],sanfrancisconeighborhood_highpop_df['long'],sanfrancisconeighborhood_highpop_df['Neighborhood'],sanfrancisconeighborhood_highpop_df['Population']):\n    label='{}, {}'.format(neighborhood,population)\n    label=folium.Popup(label, parse_html=True)\n    folium.CircleMarker(\n        [lat,lng],\n        radius=5,\n        popup=label,\n        color='blue',\n        fill=True,\n        fill_color='#3186cc',\n        fill_opacity=0.7,\n        parse_html=False).add_to(clusterneighmap)\n\nclusterneighmap",
            "execution_count": null,
            "outputs": []
        },
        {
            "metadata": {},
            "cell_type": "markdown",
            "source": "#### Merge both the nearby venues of the San Francisco neighborhood \"The Castro\" & San Francisco crimes"
        },
        {
            "metadata": {},
            "cell_type": "code",
            "source": "#merge venues and crimes dataframe\nmergeddf = pd.concat([nearby_venues_df, sfcrimebyneighborhood_df], axis=0, join='outer', ignore_index=False)\nmergeddf = mergeddf.head(1000)\nmergeddf.sort_values(by=['Latitude'], inplace=True)\nmergeddf",
            "execution_count": null,
            "outputs": []
        },
        {
            "metadata": {},
            "cell_type": "markdown",
            "source": "#### Render nearby venues & add markers for San Francisco crimes within the vinicity of the San Francisco Neighborhood \"The Castro\""
        },
        {
            "metadata": {
                "scrolled": true
            },
            "cell_type": "code",
            "source": "# generate map centered around the Castro district\n#venues_map=folium.Map(location=[latitude, longitude], zoom_start=18)\nvenues_map=folium.Map(location=[latitude, longitude], zoom_start=30)\n\n# add a red circle marker to represent the castro neighborhood\nfolium.CircleMarker(\n    [latitude, longitude],\n    radius=10,\n    color='red',\n    popup='the castro san francisco',\n    fill = True,\n    fill_color = 'red',\n    fill_opacity = 0.6\n).add_to(venues_map)\n\n# add the venues within the proximity as blue circle markers\nfor lat, lng, nm, label in zip(nearby_venues_df.Latitude, nearby_venues_df.Longitude, nearby_venues_df.categories, nearby_venues_df.name):\n    folium.CircleMarker(\n        [lat, lng],\n        radius=5,\n        color='blue',\n        popup=label,\n        fill = True,\n        fill_color='blue',\n        fill_opacity=0.6\n    ).add_to(venues_map)\n    \nmarker_cluster = MarkerCluster().add_to(venues_map)#adding marker of crime category\nfor x in range(len(mergeddf)):\n    folium.Marker([str(sfcrimebyneighborhood_df['Latitude'].iloc[x]),str(sfcrimebyneighborhood_df['Longitude'].iloc[x])],sfcrimebyneighborhood_df['Category'].iloc[x]).add_to(marker_cluster)\n   \n# display map\nvenues_map",
            "execution_count": null,
            "outputs": []
        },
        {
            "metadata": {},
            "cell_type": "markdown",
            "source": "#### One Hot Encoding\n\n##### Machine learning algorithms cannot work with categorical data directly.Categorical data must be converted to numbers.We perform this by one hot encoding. We will cluster the venues near our Castro Location"
        },
        {
            "metadata": {},
            "cell_type": "code",
            "source": "#drop the id column, it is unnecessary for k-means\nnearby_venues_df.drop(['id'],axis=1, inplace=True)\n#this will perform the one hot encoding\nnearby_venues_df_keep = nearby_venues_df[['name','categories']] # stores the two categories we will add in later\nnearby_venues_df_encode = pd.get_dummies(nearby_venues_df, prefix=['name','categories'], drop_first=False)\nnearby_venues_df_encode.head(5)",
            "execution_count": null,
            "outputs": []
        },
        {
            "metadata": {},
            "cell_type": "markdown",
            "source": "###### We will run modeling the k-means algorithm and set 3 clusters.We will add the cluster label to the dataframe"
        },
        {
            "metadata": {},
            "cell_type": "code",
            "source": "num_clusters = 3\n\nk_means = KMeans(init=\"k-means++\", n_clusters=num_clusters, n_init=12)\nk_means.fit(nearby_venues_df_encode) #add dataframe\n#labels = k_means.labels_\nnearby_venues_df_encode[\"Cluster Labels\"] = k_means.labels_\nnearby_venues_df_encode_labels=nearby_venues_df_encode\nnearby_venues_df_encode_labels.head(5)",
            "execution_count": null,
            "outputs": []
        },
        {
            "metadata": {},
            "cell_type": "code",
            "source": "#prints cluster labels to see them clustered by 0,1,2... three clusters\nlabels = k_means.labels_\nprint(labels)",
            "execution_count": null,
            "outputs": []
        },
        {
            "metadata": {},
            "cell_type": "code",
            "source": "# add original name & categories column back to dataframe\nmergeencode = pd.concat([nearby_venues_df_keep, nearby_venues_df_encode_labels], axis=1, join='outer', ignore_index=False)\nmergeencode.head(5)",
            "execution_count": null,
            "outputs": []
        },
        {
            "metadata": {},
            "cell_type": "code",
            "source": "#group by venue type\nmergeencodecatgrouped = mergeencode.groupby(['categories']).mean().reset_index()\nmergeencodecatgrouped.head(5)",
            "execution_count": null,
            "outputs": []
        },
        {
            "metadata": {},
            "cell_type": "code",
            "source": "#sort by cluster labels\nmergeencodecatgrouped.sort_values([\"Cluster Labels\"], inplace=True)\nmergeencodecatgrouped.head(5)",
            "execution_count": null,
            "outputs": []
        },
        {
            "metadata": {},
            "cell_type": "markdown",
            "source": "#### Map generation of the venue clusters"
        },
        {
            "metadata": {},
            "cell_type": "code",
            "source": "#produce a map that shows neighborhood clusters\nmergeencodecatgrouped.rename(columns={'Cluster Labels':'clusterlabels'}, inplace=True)\n\nvenuemapclusters=folium.Map(location=[latitude,longitude],zoom_start=15)\nfor lat,lng,ven,clus in zip(mergeencodecatgrouped['Latitude'],mergeencodecatgrouped['Longitude'],mergeencodecatgrouped['categories'],mergeencodecatgrouped['clusterlabels']):\n    label='{}, {}'.format(ven,clus)\n    label=folium.Popup(label, parse_html=True)\n    folium.CircleMarker(\n        [lat,lng],\n        radius=5,\n        popup=label,\n        color='blue',\n        fill=True,\n        fill_color='#3186cc',\n        fill_opacity=0.7,\n        parse_html=False).add_to(venuemapclusters)\n\nvenuemapclusters",
            "execution_count": null,
            "outputs": []
        },
        {
            "metadata": {},
            "cell_type": "markdown",
            "source": "> #### 2.5.1\tK-Means Clustering"
        },
        {
            "metadata": {},
            "cell_type": "markdown",
            "source": "### 3. Results "
        },
        {
            "metadata": {},
            "cell_type": "markdown",
            "source": "The results that I found after plotting the nearby venues within a 500 mile radius from Castro"
        },
        {
            "metadata": {},
            "cell_type": "markdown",
            "source": "### 4. Discussion"
        },
        {
            "metadata": {},
            "cell_type": "markdown",
            "source": "### 5. Conclusion"
        }
    ],
    "metadata": {
        "kernelspec": {
            "name": "python3",
            "display_name": "Python 3.6",
            "language": "python"
        },
        "language_info": {
            "name": "python",
            "version": "3.6.9",
            "mimetype": "text/x-python",
            "codemirror_mode": {
                "name": "ipython",
                "version": 3
            },
            "pygments_lexer": "ipython3",
            "nbconvert_exporter": "python",
            "file_extension": ".py"
        }
    },
    "nbformat": 4,
    "nbformat_minor": 1
}