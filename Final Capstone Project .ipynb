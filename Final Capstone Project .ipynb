{
    "cells": [
        {
            "cell_type": "markdown",
            "metadata": {
                "collapsed": true
            },
            "source": "# Final Capstone Project - Week 5 - The Battle of the Neighborhoods - Applied Data Science Capstone - IBM/Coursera\n\n> ## Targeted Marketing Campaign Prediction & User Behavior Analysis using Classification & Regression Algorithms\n\n> ## Brandy Guillory\n\n> ## December 26, 2019"
        },
        {
            "cell_type": "markdown",
            "metadata": {},
            "source": "## Table of contents\n1. [Introduction \u2013 Business Understanding](#0)<br>\n2. [Data Science Methodology](#datasciencemethodology)\n3. [Results](#results)\n4. [Discussion](#discussion)\n5. [Conclusion](#conclusion)"
        },
        {
            "cell_type": "markdown",
            "metadata": {},
            "source": "## Introduction \u2013 Business Understanding<a id=\"0\"></a>"
        },
        {
            "cell_type": "markdown",
            "metadata": {},
            "source": "### 1.1 Background"
        },
        {
            "cell_type": "markdown",
            "metadata": {},
            "source": "There has been an evolution of marketing. Since the 1900s starting on both radio and television, the marketing focus was on \"selling\" starting. The Golden age of Advertising introduced such ads as \"Uncle Sam Wants You for the Army\" and \"Eat Your Wheaties\". Marketing became more personalized with a focus on brand awareness and problem solving. Then there was the digital ad revolution  that began with online advertising in the 1990s and mobile ads in 2000. There is a plethora of data collected daily about users and the ability to harness this data to produce more targeted and personalized ad campaigns to create better customer experience and revenue generation."
        },
        {
            "cell_type": "markdown",
            "metadata": {},
            "source": "### 1.2 Problem"
        },
        {
            "cell_type": "markdown",
            "metadata": {},
            "source": "An employee at a fictitious big data marketing company, Insights LLC has been tasked with helping its customer determine four ideal marketing campaigns based on user behavior in specific geographic regions and appropriate customer segmentation based on this data."
        },
        {
            "cell_type": "markdown",
            "metadata": {},
            "source": "### 1.3 Interest"
        },
        {
            "cell_type": "markdown",
            "metadata": {},
            "source": "Insights, LLC has a customer who would like to create more personalized ad campaigns for its target customer segments to increase revenue and customer satisfaction. With the plethora of data collected & speed in which it is collected on its customers, the ability to harness it for either a) an increase of revenue via new products/services b) identification of user behavior for both positive & negative trends in customer satisfaction. I am using data science methodology to solve this business problem."
        },
        {
            "cell_type": "markdown",
            "metadata": {},
            "source": "## 2. Data Science Methodology<a name=\"datasciencemethodology\"></a>"
        },
        {
            "cell_type": "markdown",
            "metadata": {},
            "source": "### 2.1\tData Requirements \u2013 Data Tooling,  Sources & Collection"
        },
        {
            "cell_type": "markdown",
            "metadata": {},
            "source": "The data tooling I will be using will be Python language for (data cleansing, data manipulation, data modeling, data analytics & visualization), Jupyter notebook for sharing code & data analysis pushed to GitHub for source control.\n\n\nThe customer has asked me to gather insights for three specific cities: \n\u2022\tAtlanta\n\u2022\tSan Francisco \n\u2022\tNew Orleans. \n\nI am using the following data: \n\u2022\tWikipedia web scrape: Neighborhood data for the various cities\n\u2022\tGeocoder nominatim: Retrieval of latitude and longitude of the neighborhoods \n\u2022\tFoursquare Places API: venue & check-in data for these neighborhoods \n\u2022\tKaggle datasets: crime data \n\nThe data that I will be using will be both structured & unstructured.\n\nFactors that will influence the marketing campaign: likes per venue, crime, venues most frequented per neighborhood\n "
        },
        {
            "cell_type": "code",
            "execution_count": 24,
            "metadata": {},
            "outputs": [],
            "source": "%%capture\n!pip install geocoder\n!pip install folium\n\n\n#import statements, installation of libraries for data visualization/analysis & geographical data retrieval\n\n\nimport pandas as pd\nimport geocoder\nfrom geopy.geocoders import Nominatim\nimport requests\nfrom bs4 import BeautifulSoup\nfrom tabulate import tabulate\nimport folium \nimport urllib.request\nfrom urllib.request import urlopen\nfrom pandas.io.json import json_normalize\nfrom io import StringIO\nfrom zipfile import ZipFile \n\n"
        },
        {
            "cell_type": "markdown",
            "metadata": {},
            "source": "### Wikipedia web scrape for neighborhood data"
        },
        {
            "cell_type": "markdown",
            "metadata": {},
            "source": "#### Atlanta neighborhood data web scrape"
        },
        {
            "cell_type": "code",
            "execution_count": 2,
            "metadata": {},
            "outputs": [
                {
                    "data": {
                        "text/html": "<div>\n<style scoped>\n    .dataframe tbody tr th:only-of-type {\n        vertical-align: middle;\n    }\n\n    .dataframe tbody tr th {\n        vertical-align: top;\n    }\n\n    .dataframe thead th {\n        text-align: right;\n    }\n</style>\n<table border=\"1\" class=\"dataframe\">\n  <thead>\n    <tr style=\"text-align: right;\">\n      <th></th>\n      <th>0</th>\n      <th>1</th>\n      <th>Area[10]</th>\n      <th>Counties of Georgia</th>\n      <th>Counties of Georgia.1</th>\n      <th>County</th>\n      <th>County seat[10]</th>\n      <th>Density</th>\n      <th>Est.[10]</th>\n      <th>Etymology[11]</th>\n      <th>FIPS code[9]</th>\n      <th>Map</th>\n      <th>Origin[11]</th>\n      <th>Population[12]</th>\n      <th>vteLists of United States counties and county equivalents</th>\n      <th>vteLists of United States counties and county equivalents.1</th>\n      <th>vte\u00a0State of Georgia</th>\n      <th>vte\u00a0State of Georgia.1</th>\n      <th>vte\u00a0State of Georgia.2</th>\n    </tr>\n  </thead>\n  <tbody>\n    <tr>\n      <th>0</th>\n      <td>NaN</td>\n      <td>NaN</td>\n      <td>NaN</td>\n      <td>AP AT BC BX BL BA BW BR BH BE BI BY BT BO BN B...</td>\n      <td>AP AT BC BX BL BA BW BR BH BE BI BY BT BO BN B...</td>\n      <td>NaN</td>\n      <td>NaN</td>\n      <td>NaN</td>\n      <td>NaN</td>\n      <td>NaN</td>\n      <td>NaN</td>\n      <td>NaN</td>\n      <td>NaN</td>\n      <td>NaN</td>\n      <td>NaN</td>\n      <td>NaN</td>\n      <td>NaN</td>\n      <td>NaN</td>\n      <td>NaN</td>\n    </tr>\n    <tr>\n      <th>1</th>\n      <td>NaN</td>\n      <td>NaN</td>\n      <td>NaN</td>\n      <td>Location</td>\n      <td>State of Georgia</td>\n      <td>NaN</td>\n      <td>NaN</td>\n      <td>NaN</td>\n      <td>NaN</td>\n      <td>NaN</td>\n      <td>NaN</td>\n      <td>NaN</td>\n      <td>NaN</td>\n      <td>NaN</td>\n      <td>NaN</td>\n      <td>NaN</td>\n      <td>NaN</td>\n      <td>NaN</td>\n      <td>NaN</td>\n    </tr>\n    <tr>\n      <th>2</th>\n      <td>NaN</td>\n      <td>NaN</td>\n      <td>NaN</td>\n      <td>Number</td>\n      <td>159</td>\n      <td>NaN</td>\n      <td>NaN</td>\n      <td>NaN</td>\n      <td>NaN</td>\n      <td>NaN</td>\n      <td>NaN</td>\n      <td>NaN</td>\n      <td>NaN</td>\n      <td>NaN</td>\n      <td>NaN</td>\n      <td>NaN</td>\n      <td>NaN</td>\n      <td>NaN</td>\n      <td>NaN</td>\n    </tr>\n    <tr>\n      <th>3</th>\n      <td>NaN</td>\n      <td>NaN</td>\n      <td>NaN</td>\n      <td>Populations</td>\n      <td>Greatest: 1,041,423 (Fulton)Least: 1,680 (Tali...</td>\n      <td>NaN</td>\n      <td>NaN</td>\n      <td>NaN</td>\n      <td>NaN</td>\n      <td>NaN</td>\n      <td>NaN</td>\n      <td>NaN</td>\n      <td>NaN</td>\n      <td>NaN</td>\n      <td>NaN</td>\n      <td>NaN</td>\n      <td>NaN</td>\n      <td>NaN</td>\n      <td>NaN</td>\n    </tr>\n    <tr>\n      <th>4</th>\n      <td>NaN</td>\n      <td>NaN</td>\n      <td>NaN</td>\n      <td>Areas</td>\n      <td>Largest: 908 square miles (2,350\u00a0km2) (Ware)Sm...</td>\n      <td>NaN</td>\n      <td>NaN</td>\n      <td>NaN</td>\n      <td>NaN</td>\n      <td>NaN</td>\n      <td>NaN</td>\n      <td>NaN</td>\n      <td>NaN</td>\n      <td>NaN</td>\n      <td>NaN</td>\n      <td>NaN</td>\n      <td>NaN</td>\n      <td>NaN</td>\n      <td>NaN</td>\n    </tr>\n  </tbody>\n</table>\n</div>",
                        "text/plain": "    0    1 Area[10]                                Counties of Georgia  \\\n0 NaN  NaN      NaN  AP AT BC BX BL BA BW BR BH BE BI BY BT BO BN B...   \n1 NaN  NaN      NaN                                           Location   \n2 NaN  NaN      NaN                                             Number   \n3 NaN  NaN      NaN                                        Populations   \n4 NaN  NaN      NaN                                              Areas   \n\n                               Counties of Georgia.1 County County seat[10]  \\\n0  AP AT BC BX BL BA BW BR BH BE BI BY BT BO BN B...    NaN             NaN   \n1                                   State of Georgia    NaN             NaN   \n2                                                159    NaN             NaN   \n3  Greatest: 1,041,423 (Fulton)Least: 1,680 (Tali...    NaN             NaN   \n4  Largest: 908 square miles (2,350\u00a0km2) (Ware)Sm...    NaN             NaN   \n\n   Density  Est.[10] Etymology[11]  FIPS code[9]  Map Origin[11]  \\\n0      NaN       NaN           NaN           NaN  NaN        NaN   \n1      NaN       NaN           NaN           NaN  NaN        NaN   \n2      NaN       NaN           NaN           NaN  NaN        NaN   \n3      NaN       NaN           NaN           NaN  NaN        NaN   \n4      NaN       NaN           NaN           NaN  NaN        NaN   \n\n   Population[12] vteLists of United States counties and county equivalents  \\\n0             NaN                                                NaN          \n1             NaN                                                NaN          \n2             NaN                                                NaN          \n3             NaN                                                NaN          \n4             NaN                                                NaN          \n\n  vteLists of United States counties and county equivalents.1  \\\n0                                                NaN            \n1                                                NaN            \n2                                                NaN            \n3                                                NaN            \n4                                                NaN            \n\n  vte\u00a0State of Georgia vte\u00a0State of Georgia.1 vte\u00a0State of Georgia.2  \n0                  NaN                    NaN                    NaN  \n1                  NaN                    NaN                    NaN  \n2                  NaN                    NaN                    NaN  \n3                  NaN                    NaN                    NaN  \n4                  NaN                    NaN                    NaN  "
                    },
                    "execution_count": 2,
                    "metadata": {},
                    "output_type": "execute_result"
                }
            ],
            "source": "res = requests.get(\"https://en.wikipedia.org/wiki/List_of_counties_in_Georgia\")\nsoup = BeautifulSoup(res.content,'lxml')\ntable = soup.find_all('table') \ndf = pd.read_html(str(table))\ndf = pd.concat(df)\ndf.head(5)"
        },
        {
            "cell_type": "markdown",
            "metadata": {},
            "source": "#### San Francisco neighborhood data web scrape"
        },
        {
            "cell_type": "code",
            "execution_count": 3,
            "metadata": {},
            "outputs": [
                {
                    "data": {
                        "text/html": "<div>\n<style scoped>\n    .dataframe tbody tr th:only-of-type {\n        vertical-align: middle;\n    }\n\n    .dataframe tbody tr th {\n        vertical-align: top;\n    }\n\n    .dataframe thead th {\n        text-align: right;\n    }\n</style>\n<table border=\"1\" class=\"dataframe\">\n  <thead>\n    <tr style=\"text-align: right;\">\n      <th></th>\n      <th>0</th>\n      <th>1</th>\n      <th>2</th>\n      <th>3</th>\n      <th>4</th>\n    </tr>\n  </thead>\n  <tbody>\n    <tr>\n      <th>0</th>\n      <td>NaN</td>\n      <td>San Francisco Burden of Disease &amp; Injury Study...</td>\n      <td>NaN</td>\n      <td>NaN</td>\n      <td>NaN</td>\n    </tr>\n    <tr>\n      <th>1</th>\n      <td>NaN</td>\n      <td>About Site Determinants Health Outcomes Web Li...</td>\n      <td>NaN</td>\n      <td>NaN</td>\n      <td>NaN</td>\n    </tr>\n    <tr>\n      <th>0</th>\n      <td>About Site</td>\n      <td>Determinants</td>\n      <td>Health Outcomes</td>\n      <td>Web Links</td>\n      <td>Site Map</td>\n    </tr>\n    <tr>\n      <th>0</th>\n      <td>About Site</td>\n      <td>Determinants</td>\n      <td>Health Outcomes</td>\n      <td>Web Links</td>\n      <td>Site Map</td>\n    </tr>\n    <tr>\n      <th>0</th>\n      <td>San Francisco Neighborhoods as ZIP Codes Zip C...</td>\n      <td>Zip Code Neighborhood 94102 Hayes Valley/Tende...</td>\n      <td>NaN</td>\n      <td>NaN</td>\n      <td>NaN</td>\n    </tr>\n    <tr>\n      <th>0</th>\n      <td>Zip Code</td>\n      <td>Neighborhood</td>\n      <td>Population (Census 2000)</td>\n      <td>NaN</td>\n      <td>NaN</td>\n    </tr>\n    <tr>\n      <th>1</th>\n      <td>94102</td>\n      <td>Hayes Valley/Tenderloin/North of Market</td>\n      <td>28991</td>\n      <td>NaN</td>\n      <td>NaN</td>\n    </tr>\n    <tr>\n      <th>2</th>\n      <td>94103</td>\n      <td>South of Market</td>\n      <td>23016</td>\n      <td>NaN</td>\n      <td>NaN</td>\n    </tr>\n    <tr>\n      <th>3</th>\n      <td>94107</td>\n      <td>Potrero Hill</td>\n      <td>17368</td>\n      <td>NaN</td>\n      <td>NaN</td>\n    </tr>\n    <tr>\n      <th>4</th>\n      <td>94108</td>\n      <td>Chinatown</td>\n      <td>13716</td>\n      <td>NaN</td>\n      <td>NaN</td>\n    </tr>\n    <tr>\n      <th>5</th>\n      <td>94109</td>\n      <td>Polk/Russian Hill (Nob Hill)</td>\n      <td>56322</td>\n      <td>NaN</td>\n      <td>NaN</td>\n    </tr>\n    <tr>\n      <th>6</th>\n      <td>94110</td>\n      <td>Inner Mission/Bernal Heights</td>\n      <td>74633</td>\n      <td>NaN</td>\n      <td>NaN</td>\n    </tr>\n    <tr>\n      <th>7</th>\n      <td>94112</td>\n      <td>Ingelside-Excelsior/Crocker-Amazon</td>\n      <td>73104</td>\n      <td>NaN</td>\n      <td>NaN</td>\n    </tr>\n    <tr>\n      <th>8</th>\n      <td>94114</td>\n      <td>Castro/Noe Valley</td>\n      <td>30574</td>\n      <td>NaN</td>\n      <td>NaN</td>\n    </tr>\n    <tr>\n      <th>9</th>\n      <td>94115</td>\n      <td>Western Addition/Japantown</td>\n      <td>33115</td>\n      <td>NaN</td>\n      <td>NaN</td>\n    </tr>\n    <tr>\n      <th>10</th>\n      <td>94116</td>\n      <td>Parkside/Forest Hill</td>\n      <td>42958</td>\n      <td>NaN</td>\n      <td>NaN</td>\n    </tr>\n    <tr>\n      <th>11</th>\n      <td>94117</td>\n      <td>Haight-Ashbury</td>\n      <td>38738</td>\n      <td>NaN</td>\n      <td>NaN</td>\n    </tr>\n    <tr>\n      <th>12</th>\n      <td>94118</td>\n      <td>Inner Richmond</td>\n      <td>38939</td>\n      <td>NaN</td>\n      <td>NaN</td>\n    </tr>\n    <tr>\n      <th>13</th>\n      <td>94121</td>\n      <td>Outer Richmond</td>\n      <td>42473</td>\n      <td>NaN</td>\n      <td>NaN</td>\n    </tr>\n    <tr>\n      <th>14</th>\n      <td>94122</td>\n      <td>Sunset</td>\n      <td>55492</td>\n      <td>NaN</td>\n      <td>NaN</td>\n    </tr>\n  </tbody>\n</table>\n</div>",
                        "text/plain": "                                                    0  \\\n0                                                 NaN   \n1                                                 NaN   \n0                                          About Site   \n0                                          About Site   \n0   San Francisco Neighborhoods as ZIP Codes Zip C...   \n0                                            Zip Code   \n1                                               94102   \n2                                               94103   \n3                                               94107   \n4                                               94108   \n5                                               94109   \n6                                               94110   \n7                                               94112   \n8                                               94114   \n9                                               94115   \n10                                              94116   \n11                                              94117   \n12                                              94118   \n13                                              94121   \n14                                              94122   \n\n                                                    1  \\\n0   San Francisco Burden of Disease & Injury Study...   \n1   About Site Determinants Health Outcomes Web Li...   \n0                                        Determinants   \n0                                        Determinants   \n0   Zip Code Neighborhood 94102 Hayes Valley/Tende...   \n0                                        Neighborhood   \n1             Hayes Valley/Tenderloin/North of Market   \n2                                     South of Market   \n3                                        Potrero Hill   \n4                                           Chinatown   \n5                        Polk/Russian Hill (Nob Hill)   \n6                        Inner Mission/Bernal Heights   \n7                  Ingelside-Excelsior/Crocker-Amazon   \n8                                   Castro/Noe Valley   \n9                          Western Addition/Japantown   \n10                               Parkside/Forest Hill   \n11                                     Haight-Ashbury   \n12                                     Inner Richmond   \n13                                     Outer Richmond   \n14                                             Sunset   \n\n                           2          3         4  \n0                        NaN        NaN       NaN  \n1                        NaN        NaN       NaN  \n0            Health Outcomes  Web Links  Site Map  \n0            Health Outcomes  Web Links  Site Map  \n0                        NaN        NaN       NaN  \n0   Population (Census 2000)        NaN       NaN  \n1                      28991        NaN       NaN  \n2                      23016        NaN       NaN  \n3                      17368        NaN       NaN  \n4                      13716        NaN       NaN  \n5                      56322        NaN       NaN  \n6                      74633        NaN       NaN  \n7                      73104        NaN       NaN  \n8                      30574        NaN       NaN  \n9                      33115        NaN       NaN  \n10                     42958        NaN       NaN  \n11                     38738        NaN       NaN  \n12                     38939        NaN       NaN  \n13                     42473        NaN       NaN  \n14                     55492        NaN       NaN  "
                    },
                    "execution_count": 3,
                    "metadata": {},
                    "output_type": "execute_result"
                }
            ],
            "source": "res = requests.get(\"http://www.healthysf.org/bdi/outcomes/zipmap.htm\")\nsoup = BeautifulSoup(res.content,'lxml')\ntable = soup.find_all('table') \ndf1 = pd.read_html(str(table))\ndf1 = pd.concat(df1)\ndf1.head(20)"
        },
        {
            "cell_type": "markdown",
            "metadata": {},
            "source": "#### New Orleans neighborhood data web scrape"
        },
        {
            "cell_type": "code",
            "execution_count": 4,
            "metadata": {},
            "outputs": [
                {
                    "name": "stderr",
                    "output_type": "stream",
                    "text": "/opt/conda/envs/Python36/lib/python3.6/site-packages/ipykernel/__main__.py:5: FutureWarning: Sorting because non-concatenation axis is not aligned. A future version\nof pandas will change to not sort by default.\n\nTo accept the future behavior, pass 'sort=False'.\n\nTo retain the current behavior and silence the warning, pass 'sort=True'.\n\n"
                },
                {
                    "data": {
                        "text/html": "<div>\n<style scoped>\n    .dataframe tbody tr th:only-of-type {\n        vertical-align: middle;\n    }\n\n    .dataframe tbody tr th {\n        vertical-align: top;\n    }\n\n    .dataframe thead th {\n        text-align: right;\n    }\n</style>\n<table border=\"1\" class=\"dataframe\">\n  <thead>\n    <tr style=\"text-align: right;\">\n      <th></th>\n      <th>Latitude</th>\n      <th>Longitude</th>\n      <th>Neighborhood</th>\n      <th>vte City of New Orleans</th>\n      <th>vte City of New Orleans.1</th>\n      <th>vte City of New Orleans.2</th>\n    </tr>\n  </thead>\n  <tbody>\n    <tr>\n      <th>0</th>\n      <td>29.946085</td>\n      <td>-90.026093</td>\n      <td>U.S. NAVAL BASE</td>\n      <td>NaN</td>\n      <td>NaN</td>\n      <td>NaN</td>\n    </tr>\n    <tr>\n      <th>1</th>\n      <td>29.952462</td>\n      <td>-90.051606</td>\n      <td>ALGIERS POINT</td>\n      <td>NaN</td>\n      <td>NaN</td>\n      <td>NaN</td>\n    </tr>\n    <tr>\n      <th>2</th>\n      <td>29.947200</td>\n      <td>-90.042357</td>\n      <td>WHITNEY</td>\n      <td>NaN</td>\n      <td>NaN</td>\n      <td>NaN</td>\n    </tr>\n    <tr>\n      <th>3</th>\n      <td>29.932994</td>\n      <td>-90.121450</td>\n      <td>AUDUBON</td>\n      <td>NaN</td>\n      <td>NaN</td>\n      <td>NaN</td>\n    </tr>\n    <tr>\n      <th>4</th>\n      <td>29.924440</td>\n      <td>-90.000000</td>\n      <td>OLD AURORA</td>\n      <td>NaN</td>\n      <td>NaN</td>\n      <td>NaN</td>\n    </tr>\n  </tbody>\n</table>\n</div>",
                        "text/plain": "    Latitude  Longitude     Neighborhood vte City of New Orleans  \\\n0  29.946085 -90.026093  U.S. NAVAL BASE                     NaN   \n1  29.952462 -90.051606    ALGIERS POINT                     NaN   \n2  29.947200 -90.042357          WHITNEY                     NaN   \n3  29.932994 -90.121450          AUDUBON                     NaN   \n4  29.924440 -90.000000       OLD AURORA                     NaN   \n\n  vte City of New Orleans.1 vte City of New Orleans.2  \n0                       NaN                       NaN  \n1                       NaN                       NaN  \n2                       NaN                       NaN  \n3                       NaN                       NaN  \n4                       NaN                       NaN  "
                    },
                    "execution_count": 4,
                    "metadata": {},
                    "output_type": "execute_result"
                }
            ],
            "source": "res = requests.get(\"https://en.wikipedia.org/wiki/Neighborhoods_in_New_Orleans\")\nsoup = BeautifulSoup(res.content,'lxml')\ntable = soup.find_all('table') \ndf3 = pd.read_html(str(table))\ndf3 = pd.concat(df3)\ndf3.head(5)"
        },
        {
            "cell_type": "markdown",
            "metadata": {},
            "source": "### Foursquare Data Collection to retrieve lat and long of 3 SF neighborhoods, venue data of venues within a proximity of the neighborhoods & like/check-in data on the venues"
        },
        {
            "cell_type": "markdown",
            "metadata": {},
            "source": "#### Hide code below for API creds"
        },
        {
            "cell_type": "code",
            "execution_count": 5,
            "metadata": {},
            "outputs": [],
            "source": "# The code was removed by Watson Studio for sharing."
        },
        {
            "cell_type": "markdown",
            "metadata": {},
            "source": "#### In order to define an instance of the geocoder, we need to define a user_agent. We will name our agent <em>foursquare_agent</em>, as shown below and get coordinates for 3 SF Neighborhoods via function\n#### In addition I pull all nearby venues using location coordinates within a 500 mile radius"
        },
        {
            "cell_type": "code",
            "execution_count": 6,
            "metadata": {},
            "outputs": [
                {
                    "name": "stdout",
                    "output_type": "stream",
                    "text": "Coordinates of the castro san francisco: (37.7608561, -122.434957)\n"
                }
            ],
            "source": "def getcoords(clientid,secret,vrsn,lmt,address):\n    geolocator = Nominatim(user_agent=\"foursquare_agent\")\n    location = geolocator.geocode(address)\n    latitude = location.latitude\n    longitude = location.longitude\n    return latitude,longitude\n\n\naddress = 'the castro san francisco'\n#address = 'Potrero Hill san francisco'\n#address = 'Chinatown san francisco'\ncoords = getcoords(CLIENT_ID,CLIENT_SECRET,VERSION,LIMIT,address)\nprint('Coordinates of {}: {}'.format(address, coords))\n\n"
        },
        {
            "cell_type": "markdown",
            "metadata": {},
            "source": "#### Retrieving Category Type from rows and returning the names"
        },
        {
            "cell_type": "code",
            "execution_count": 7,
            "metadata": {},
            "outputs": [],
            "source": "def get_category_type(row):\n    try:\n        categories_list = row['categories']\n    except:\n        categories_list = row['venue.categories']\n        \n    if len(categories_list) == 0:\n        return None\n    else:\n        return categories_list[0]['name']"
        },
        {
            "cell_type": "markdown",
            "metadata": {},
            "source": "#### Using Foursquare API to explore venues then convert result into a pandas dataframe from JSON"
        },
        {
            "cell_type": "code",
            "execution_count": 8,
            "metadata": {},
            "outputs": [],
            "source": "radius=100\nlimit=100\ngeolocator = Nominatim(user_agent=\"foursquare_agent\")\nlocation = geolocator.geocode(address)\nlatitude = location.latitude\nlongitude = location.longitude\nurl = 'https://api.foursquare.com/v2/venues/explore?&client_id={}&client_secret={}&v={}&ll={},{}&radius={}&limit={}'.format(\n    CLIENT_ID, \n    CLIENT_SECRET, \n    VERSION, \n    latitude,\n    longitude,\n    radius, \n    LIMIT)\nresults = requests.get(url).json()\nvenues = results['response']['groups'][0]['items']\nnearby_venues = json_normalize(venues)"
        },
        {
            "cell_type": "markdown",
            "metadata": {},
            "source": "#### Filter columns by Venue ID, Venue Name, Venue Category & Venue Lat & Long"
        },
        {
            "cell_type": "code",
            "execution_count": 9,
            "metadata": {},
            "outputs": [
                {
                    "data": {
                        "text/html": "<div>\n<style scoped>\n    .dataframe tbody tr th:only-of-type {\n        vertical-align: middle;\n    }\n\n    .dataframe tbody tr th {\n        vertical-align: top;\n    }\n\n    .dataframe thead th {\n        text-align: right;\n    }\n</style>\n<table border=\"1\" class=\"dataframe\">\n  <thead>\n    <tr style=\"text-align: right;\">\n      <th></th>\n      <th>id</th>\n      <th>name</th>\n      <th>categories</th>\n      <th>lat</th>\n      <th>lng</th>\n    </tr>\n  </thead>\n  <tbody>\n    <tr>\n      <th>0</th>\n      <td>49fe3629f964a5207f6f1fe3</td>\n      <td>Yoga Tree Castro</td>\n      <td>Yoga Studio</td>\n      <td>37.761051</td>\n      <td>-122.436003</td>\n    </tr>\n    <tr>\n      <th>1</th>\n      <td>5613f02d498e46b274c37a65</td>\n      <td>Philz Coffee</td>\n      <td>Coffee Shop</td>\n      <td>37.760104</td>\n      <td>-122.434829</td>\n    </tr>\n    <tr>\n      <th>2</th>\n      <td>58f18932d7627e564887c486</td>\n      <td>The Castro Fountain</td>\n      <td>Ice Cream Shop</td>\n      <td>37.760052</td>\n      <td>-122.435024</td>\n    </tr>\n    <tr>\n      <th>3</th>\n      <td>52efb33f498e5300bf66e245</td>\n      <td>R\u00e9veille Coffee Co.</td>\n      <td>Coffee Shop</td>\n      <td>37.761104</td>\n      <td>-122.434430</td>\n    </tr>\n    <tr>\n      <th>4</th>\n      <td>574f605b498ee997a05fa2d7</td>\n      <td>Dog Eared Books</td>\n      <td>Bookstore</td>\n      <td>37.761206</td>\n      <td>-122.434959</td>\n    </tr>\n    <tr>\n      <th>5</th>\n      <td>4a8cbbdff964a520070f20e3</td>\n      <td>Body Clothing</td>\n      <td>Clothing Store</td>\n      <td>37.761713</td>\n      <td>-122.435155</td>\n    </tr>\n    <tr>\n      <th>6</th>\n      <td>49e55498f964a520bf631fe3</td>\n      <td>Blush! Wine Bar</td>\n      <td>Wine Bar</td>\n      <td>37.761260</td>\n      <td>-122.435116</td>\n    </tr>\n    <tr>\n      <th>7</th>\n      <td>552d9a9a498ef6abfdae677a</td>\n      <td>Lark</td>\n      <td>Mediterranean Restaurant</td>\n      <td>37.760993</td>\n      <td>-122.434275</td>\n    </tr>\n    <tr>\n      <th>8</th>\n      <td>4ce453c3f5f9236a1bd58461</td>\n      <td>GLBT History Museum</td>\n      <td>History Museum</td>\n      <td>37.760828</td>\n      <td>-122.435610</td>\n    </tr>\n    <tr>\n      <th>9</th>\n      <td>584339f68ae36321db2805d3</td>\n      <td>Project Juice</td>\n      <td>Juice Bar</td>\n      <td>37.760716</td>\n      <td>-122.435023</td>\n    </tr>\n  </tbody>\n</table>\n</div>",
                        "text/plain": "                         id                 name                categories  \\\n0  49fe3629f964a5207f6f1fe3     Yoga Tree Castro               Yoga Studio   \n1  5613f02d498e46b274c37a65         Philz Coffee               Coffee Shop   \n2  58f18932d7627e564887c486  The Castro Fountain            Ice Cream Shop   \n3  52efb33f498e5300bf66e245  R\u00e9veille Coffee Co.               Coffee Shop   \n4  574f605b498ee997a05fa2d7      Dog Eared Books                 Bookstore   \n5  4a8cbbdff964a520070f20e3        Body Clothing            Clothing Store   \n6  49e55498f964a520bf631fe3      Blush! Wine Bar                  Wine Bar   \n7  552d9a9a498ef6abfdae677a                 Lark  Mediterranean Restaurant   \n8  4ce453c3f5f9236a1bd58461  GLBT History Museum            History Museum   \n9  584339f68ae36321db2805d3        Project Juice                 Juice Bar   \n\n         lat         lng  \n0  37.761051 -122.436003  \n1  37.760104 -122.434829  \n2  37.760052 -122.435024  \n3  37.761104 -122.434430  \n4  37.761206 -122.434959  \n5  37.761713 -122.435155  \n6  37.761260 -122.435116  \n7  37.760993 -122.434275  \n8  37.760828 -122.435610  \n9  37.760716 -122.435023  "
                    },
                    "execution_count": 9,
                    "metadata": {},
                    "output_type": "execute_result"
                }
            ],
            "source": "\nfiltered_columns = ['venue.id','venue.name', 'venue.categories', 'venue.location.lat', 'venue.location.lng']\nnearby_venues =nearby_venues.loc[:, filtered_columns]# filter the category for each row\nnearby_venues['venue.categories'] = nearby_venues.apply(get_category_type, axis=1)# clean columns\nnearby_venues.columns = [col.split(\".\")[-1] for col in nearby_venues.columns]\nnearby_venues.head(10)"
        },
        {
            "cell_type": "markdown",
            "metadata": {},
            "source": "#### Set up to pull the likes from the API based on venue ID"
        },
        {
            "cell_type": "code",
            "execution_count": 10,
            "metadata": {},
            "outputs": [
                {
                    "name": "stdout",
                    "output_type": "stream",
                    "text": "[82, 294, 61, 632, 51, 24, 159, 142, 68, 70, 182, 232, 157, 12, 24, 245, 192, 14, 109, 67, 225, 229, 15, 2]\n"
                }
            ],
            "source": "#set up to pull the likes from the API based on venue ID\nvenue_id_list = nearby_venues['id'].tolist()\nvenue_id_list\n\nurl_list = []\nlike_list = []\njson_list = []\n\n#loop through the apis for each venue and provide the likes in a list\nfor i in venue_id_list:\n    venue_url = 'https://api.foursquare.com/v2/venues/{}/likes?client_id={}&client_secret={}&v={}'.format(i, CLIENT_ID, CLIENT_SECRET, VERSION)\n    url_list.append(venue_url)\nfor link in url_list:\n    result = requests.get(link).json()\n    likes = result['response']['likes']['count']\n    like_list.append(likes)\nprint(like_list)"
        },
        {
            "cell_type": "code",
            "execution_count": 11,
            "metadata": {},
            "outputs": [],
            "source": "#### Foursquare check-in data(optional)"
        },
        {
            "cell_type": "markdown",
            "metadata": {},
            "source": "### Kaggle Data Collection - Crime by Neighborhood"
        },
        {
            "cell_type": "code",
            "execution_count": 15,
            "metadata": {},
            "outputs": [],
            "source": "# Link to the Kaggle data set & name of zip file\nlogin_url = 'https://www.kaggle.com/kaggle/san-francisco-crime-classification/data/san-francisco-crime-classification.zip'\n"
        },
        {
            "cell_type": "code",
            "execution_count": 19,
            "metadata": {},
            "outputs": [],
            "source": "# The code was removed by Watson Studio for sharing."
        },
        {
            "cell_type": "code",
            "execution_count": 28,
            "metadata": {},
            "outputs": [
                {
                    "ename": "FileNotFoundError",
                    "evalue": "[Errno 2] No such file or directory: 'san-francisco-crime-classification.zip'",
                    "output_type": "error",
                    "traceback": [
                        "\u001b[0;31m---------------------------------------------------------------------------\u001b[0m",
                        "\u001b[0;31mFileNotFoundError\u001b[0m                         Traceback (most recent call last)",
                        "\u001b[0;32m<ipython-input-28-e3ae40625478>\u001b[0m in \u001b[0;36m<module>\u001b[0;34m\u001b[0m\n\u001b[1;32m      7\u001b[0m \u001b[0;32mimport\u001b[0m \u001b[0mzipfile\u001b[0m\u001b[0;34m\u001b[0m\u001b[0;34m\u001b[0m\u001b[0m\n\u001b[1;32m      8\u001b[0m \u001b[0;34m\u001b[0m\u001b[0m\n\u001b[0;32m----> 9\u001b[0;31m \u001b[0mzf\u001b[0m \u001b[0;34m=\u001b[0m \u001b[0mzipfile\u001b[0m\u001b[0;34m.\u001b[0m\u001b[0mZipFile\u001b[0m\u001b[0;34m(\u001b[0m\u001b[0;34m'san-francisco-crime-classification.zip'\u001b[0m\u001b[0;34m,\u001b[0m \u001b[0;34m'r'\u001b[0m\u001b[0;34m)\u001b[0m\u001b[0;34m\u001b[0m\u001b[0;34m\u001b[0m\u001b[0m\n\u001b[0m\u001b[1;32m     10\u001b[0m \u001b[0mprint\u001b[0m\u001b[0;34m(\u001b[0m\u001b[0mzf\u001b[0m\u001b[0;34m.\u001b[0m\u001b[0mnamelist\u001b[0m\u001b[0;34m(\u001b[0m\u001b[0;34m)\u001b[0m\u001b[0;34m)\u001b[0m\u001b[0;34m\u001b[0m\u001b[0;34m\u001b[0m\u001b[0m\n\u001b[1;32m     11\u001b[0m \u001b[0;34m\u001b[0m\u001b[0m\n",
                        "\u001b[0;32m/opt/conda/envs/Python36/lib/python3.6/zipfile.py\u001b[0m in \u001b[0;36m__init__\u001b[0;34m(self, file, mode, compression, allowZip64)\u001b[0m\n\u001b[1;32m   1111\u001b[0m             \u001b[0;32mwhile\u001b[0m \u001b[0;32mTrue\u001b[0m\u001b[0;34m:\u001b[0m\u001b[0;34m\u001b[0m\u001b[0;34m\u001b[0m\u001b[0m\n\u001b[1;32m   1112\u001b[0m                 \u001b[0;32mtry\u001b[0m\u001b[0;34m:\u001b[0m\u001b[0;34m\u001b[0m\u001b[0;34m\u001b[0m\u001b[0m\n\u001b[0;32m-> 1113\u001b[0;31m                     \u001b[0mself\u001b[0m\u001b[0;34m.\u001b[0m\u001b[0mfp\u001b[0m \u001b[0;34m=\u001b[0m \u001b[0mio\u001b[0m\u001b[0;34m.\u001b[0m\u001b[0mopen\u001b[0m\u001b[0;34m(\u001b[0m\u001b[0mfile\u001b[0m\u001b[0;34m,\u001b[0m \u001b[0mfilemode\u001b[0m\u001b[0;34m)\u001b[0m\u001b[0;34m\u001b[0m\u001b[0;34m\u001b[0m\u001b[0m\n\u001b[0m\u001b[1;32m   1114\u001b[0m                 \u001b[0;32mexcept\u001b[0m \u001b[0mOSError\u001b[0m\u001b[0;34m:\u001b[0m\u001b[0;34m\u001b[0m\u001b[0;34m\u001b[0m\u001b[0m\n\u001b[1;32m   1115\u001b[0m                     \u001b[0;32mif\u001b[0m \u001b[0mfilemode\u001b[0m \u001b[0;32min\u001b[0m \u001b[0mmodeDict\u001b[0m\u001b[0;34m:\u001b[0m\u001b[0;34m\u001b[0m\u001b[0;34m\u001b[0m\u001b[0m\n",
                        "\u001b[0;31mFileNotFoundError\u001b[0m: [Errno 2] No such file or directory: 'san-francisco-crime-classification.zip'"
                    ]
                }
            ],
            "source": "# Login to Kaggle and retrieve the data.\nr = requests.post(login_url, data=kaggle_info, stream=True)\n\n#Request returns a bytes file, so first convert bytes to zip file:\n#mlz = zipfile.ZipFile(io.BytesIO(r.content))\n\nimport zipfile\n\nzf = zipfile.ZipFile('san-francisco-crime-classification.zip', 'r')\nprint(zf.namelist())\n\n#To see what's in the zipfile\nmlz.namelist()\n\n#Then you can extract and read the CSV corresponding to the index, x:\ndf1  = pd.read_csv(mlz.open(mlz.namelist()[0]))\ndf2 = pd.read_csv(mlz.open(mlz.namelist()[1]))\ncrimeData = pd.read_csv(mlz.open('train.csv'))\ncrimeData.head(10)"
        },
        {
            "cell_type": "markdown",
            "metadata": {},
            "source": "### 2.3\tData Cleansing & Manipulation"
        },
        {
            "cell_type": "markdown",
            "metadata": {},
            "source": "Data that I downloaded or web scraped was stored in a table or data frame for further analysis."
        },
        {
            "cell_type": "markdown",
            "metadata": {},
            "source": "### 2.4\tExploratory Data Analysis"
        },
        {
            "cell_type": "code",
            "execution_count": null,
            "metadata": {},
            "outputs": [],
            "source": "venues_map = folium.Map(location=[latitude, longitude], zoom_start=13) # generate map centred around the Conrad Hotel\n\n# add a red circle marker to represent the castro neighborhood\nfolium.features.CircleMarker(\n    [latitude, longitude],\n    radius=10,\n    color='red',\n    popup='the castro san francisco',\n    fill = True,\n    fill_color = 'red',\n    fill_opacity = 0.6\n).add_to(venues_map)\n\n# add the venues within the proximity as blue circle markers\nfor lat, lng, label in zip(dataframe_filtered.lat, dataframe_filtered.lng, dataframe_filtered.categories):\n    folium.features.CircleMarker(\n        [lat, lng],\n        radius=5,\n        color='blue',\n        popup=label,\n        fill = True,\n        fill_color='blue',\n        fill_opacity=0.6\n    ).add_to(venues_map)\n\n# display map\nvenues_map"
        },
        {
            "cell_type": "markdown",
            "metadata": {},
            "source": "> #### 2.5.1\tRegression "
        },
        {
            "cell_type": "markdown",
            "metadata": {},
            "source": "> #### 2.5.2\tClassification"
        },
        {
            "cell_type": "markdown",
            "metadata": {},
            "source": "### 3. Results "
        },
        {
            "cell_type": "markdown",
            "metadata": {},
            "source": "### 4. Discussion"
        },
        {
            "cell_type": "markdown",
            "metadata": {},
            "source": "### 5. Conclusion"
        }
    ],
    "metadata": {
        "kernelspec": {
            "display_name": "Python 3.6",
            "language": "python",
            "name": "python3"
        },
        "language_info": {
            "codemirror_mode": {
                "name": "ipython",
                "version": 3
            },
            "file_extension": ".py",
            "mimetype": "text/x-python",
            "name": "python",
            "nbconvert_exporter": "python",
            "pygments_lexer": "ipython3",
            "version": "3.6.8"
        }
    },
    "nbformat": 4,
    "nbformat_minor": 1
}