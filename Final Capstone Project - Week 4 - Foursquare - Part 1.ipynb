{
    "cells": [
        {
            "metadata": {
                "collapsed": true
            },
            "cell_type": "markdown",
            "source": "# Final Capstone project - IBM Applied Data Science Capstone course (Coursera)"
        },
        {
            "metadata": {},
            "cell_type": "markdown",
            "source": "## Introduction\n\nFor my capstone project, I have imagined a scenario where an employee at a fictitious big data marketing company, Insights LLC has been tasked with helping its customer determine four ideal marketing campaigns based on user behavior in specific geographic regions and appropriate customer segmentation based on this data.\n\n  \n## Business Problem\n\nThe goal is for Insight LLCs customer to launch four succesful marketing campaigns to increase revenue for this customer & create more personalized experiences for the target customer segments\n\n## Data Gathering Requirements\n\nThe customer has asked me to gather insights for three specific cities: Atlanta, San Francisco and New Orleans.\n\n- I am using Foursquare for geographic location data. \n- I will pull latitude and longitude of the neighborhoods in the various cities.\n- I will pull venue data for these neighborhoods as well as check-in data through Places API\n\n\n## Data Collection\n\nI will do a webscrape of neighborhood data using Wikipedia then use geocoder nominatim to retrieve lat/long data then I will use the Foursquare API to retrieve venue data via the Places API\n\n"
        }
    ],
    "metadata": {
        "kernelspec": {
            "name": "python3",
            "display_name": "Python 3.6",
            "language": "python"
        },
        "language_info": {
            "name": "python",
            "version": "3.6.8",
            "mimetype": "text/x-python",
            "codemirror_mode": {
                "name": "ipython",
                "version": 3
            },
            "pygments_lexer": "ipython3",
            "nbconvert_exporter": "python",
            "file_extension": ".py"
        }
    },
    "nbformat": 4,
    "nbformat_minor": 1
}